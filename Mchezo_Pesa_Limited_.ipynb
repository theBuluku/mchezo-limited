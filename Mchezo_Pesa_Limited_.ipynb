{
  "nbformat": 4,
  "nbformat_minor": 0,
  "metadata": {
    "colab": {
      "name": "Mchezo Pesa Limited.",
      "version": "0.3.2",
      "provenance": [],
      "collapsed_sections": [],
      "toc_visible": true,
      "include_colab_link": true
    },
    "kernelspec": {
      "name": "python3",
      "display_name": "Python 3"
    },
    "accelerator": "GPU"
  },
  "cells": [
    {
      "cell_type": "markdown",
      "metadata": {
        "id": "view-in-github",
        "colab_type": "text"
      },
      "source": [
        "<a href=\"https://colab.research.google.com/github/theBuluku/mchezo-limited/blob/master/Mchezo_Pesa_Limited_.ipynb\" target=\"_parent\"><img src=\"https://colab.research.google.com/assets/colab-badge.svg\" alt=\"Open In Colab\"/></a>"
      ]
    },
    {
      "cell_type": "markdown",
      "metadata": {
        "id": "wPgrCfiHIa8D",
        "colab_type": "text"
      },
      "source": [
        ""
      ]
    },
    {
      "cell_type": "markdown",
      "metadata": {
        "id": "-6jJ4xauIeDy",
        "colab_type": "text"
      },
      "source": [
        "#PROBLEM STATEMENT"
      ]
    },
    {
      "cell_type": "markdown",
      "metadata": {
        "id": "SWo90fKiOapI",
        "colab_type": "text"
      },
      "source": [
        ""
      ]
    },
    {
      "cell_type": "markdown",
      "metadata": {
        "id": "iC7HfGTsIpDe",
        "colab_type": "text"
      },
      "source": [
        "A Prediction result of a game between team 1 and team 2, based on who's home and who's away, and on whether or not the game is friendly (include rank in your training)."
      ]
    },
    {
      "cell_type": "markdown",
      "metadata": {
        "id": "iMa8S8gpOgv_",
        "colab_type": "text"
      },
      "source": [
        "#Metrics of Success."
      ]
    },
    {
      "cell_type": "markdown",
      "metadata": {
        "id": "jWNKHM2VOl54",
        "colab_type": "text"
      },
      "source": [
        "1.Polynomial regression approach the metrics of success are RootMeanSquaredError and r2_score\n",
        "\n",
        "2.Logistic approach metrics of success are f1-score accuracy and confusion matrix"
      ]
    },
    {
      "cell_type": "code",
      "metadata": {
        "id": "fhsNkjPMxy_a",
        "colab_type": "code",
        "colab": {}
      },
      "source": [
        "#Importing the environments For analysis.\n",
        "import sys\n",
        "import pandas as pd\n",
        "import matplotlib\n",
        "import sklearn\n",
        "import numpy as np"
      ],
      "execution_count": 0,
      "outputs": []
    },
    {
      "cell_type": "code",
      "metadata": {
        "id": "pYt6GO0Ny5d5",
        "colab_type": "code",
        "colab": {}
      },
      "source": [
        "#Importing relevant environments to use for analysis.\n",
        "import matplotlib.pyplot as plt\n",
        "%matplotlib inline\n",
        "from sklearn import model_selection\n",
        "from sklearn.metrics import classification_report\n",
        "from sklearn.metrics import confusion_matrix\n",
        "from sklearn.metrics import accuracy_score\n",
        "from sklearn.preprocessing import StandardScaler,PolynomialFeatures,LabelEncoder,OneHotEncoder"
      ],
      "execution_count": 0,
      "outputs": []
    },
    {
      "cell_type": "code",
      "metadata": {
        "id": "7i1itxev3jlE",
        "colab_type": "code",
        "outputId": "b7115eeb-fcf2-49f9-9c25-9c5120440932",
        "colab": {
          "base_uri": "https://localhost:8080/",
          "height": 262
        }
      },
      "source": [
        "#Loading our rankings dataset\n",
        "rankings_dataset= pd.read_csv('fifa_ranking.csv')\n",
        "rankings_dataset.head(6)"
      ],
      "execution_count": 180,
      "outputs": [
        {
          "output_type": "execute_result",
          "data": {
            "text/html": [
              "<div>\n",
              "<style scoped>\n",
              "    .dataframe tbody tr th:only-of-type {\n",
              "        vertical-align: middle;\n",
              "    }\n",
              "\n",
              "    .dataframe tbody tr th {\n",
              "        vertical-align: top;\n",
              "    }\n",
              "\n",
              "    .dataframe thead th {\n",
              "        text-align: right;\n",
              "    }\n",
              "</style>\n",
              "<table border=\"1\" class=\"dataframe\">\n",
              "  <thead>\n",
              "    <tr style=\"text-align: right;\">\n",
              "      <th></th>\n",
              "      <th>rank</th>\n",
              "      <th>country_full</th>\n",
              "      <th>country_abrv</th>\n",
              "      <th>total_points</th>\n",
              "      <th>previous_points</th>\n",
              "      <th>rank_change</th>\n",
              "      <th>cur_year_avg</th>\n",
              "      <th>cur_year_avg_weighted</th>\n",
              "      <th>last_year_avg</th>\n",
              "      <th>last_year_avg_weighted</th>\n",
              "      <th>two_year_ago_avg</th>\n",
              "      <th>two_year_ago_weighted</th>\n",
              "      <th>three_year_ago_avg</th>\n",
              "      <th>three_year_ago_weighted</th>\n",
              "      <th>confederation</th>\n",
              "      <th>rank_date</th>\n",
              "    </tr>\n",
              "  </thead>\n",
              "  <tbody>\n",
              "    <tr>\n",
              "      <th>0</th>\n",
              "      <td>1</td>\n",
              "      <td>Germany</td>\n",
              "      <td>GER</td>\n",
              "      <td>0.0</td>\n",
              "      <td>57</td>\n",
              "      <td>0</td>\n",
              "      <td>0.0</td>\n",
              "      <td>0.0</td>\n",
              "      <td>0.0</td>\n",
              "      <td>0.0</td>\n",
              "      <td>0.0</td>\n",
              "      <td>0.0</td>\n",
              "      <td>0.0</td>\n",
              "      <td>0.0</td>\n",
              "      <td>UEFA</td>\n",
              "      <td>1993-08-08</td>\n",
              "    </tr>\n",
              "    <tr>\n",
              "      <th>1</th>\n",
              "      <td>2</td>\n",
              "      <td>Italy</td>\n",
              "      <td>ITA</td>\n",
              "      <td>0.0</td>\n",
              "      <td>57</td>\n",
              "      <td>0</td>\n",
              "      <td>0.0</td>\n",
              "      <td>0.0</td>\n",
              "      <td>0.0</td>\n",
              "      <td>0.0</td>\n",
              "      <td>0.0</td>\n",
              "      <td>0.0</td>\n",
              "      <td>0.0</td>\n",
              "      <td>0.0</td>\n",
              "      <td>UEFA</td>\n",
              "      <td>1993-08-08</td>\n",
              "    </tr>\n",
              "    <tr>\n",
              "      <th>2</th>\n",
              "      <td>3</td>\n",
              "      <td>Switzerland</td>\n",
              "      <td>SUI</td>\n",
              "      <td>0.0</td>\n",
              "      <td>50</td>\n",
              "      <td>9</td>\n",
              "      <td>0.0</td>\n",
              "      <td>0.0</td>\n",
              "      <td>0.0</td>\n",
              "      <td>0.0</td>\n",
              "      <td>0.0</td>\n",
              "      <td>0.0</td>\n",
              "      <td>0.0</td>\n",
              "      <td>0.0</td>\n",
              "      <td>UEFA</td>\n",
              "      <td>1993-08-08</td>\n",
              "    </tr>\n",
              "    <tr>\n",
              "      <th>3</th>\n",
              "      <td>4</td>\n",
              "      <td>Sweden</td>\n",
              "      <td>SWE</td>\n",
              "      <td>0.0</td>\n",
              "      <td>55</td>\n",
              "      <td>0</td>\n",
              "      <td>0.0</td>\n",
              "      <td>0.0</td>\n",
              "      <td>0.0</td>\n",
              "      <td>0.0</td>\n",
              "      <td>0.0</td>\n",
              "      <td>0.0</td>\n",
              "      <td>0.0</td>\n",
              "      <td>0.0</td>\n",
              "      <td>UEFA</td>\n",
              "      <td>1993-08-08</td>\n",
              "    </tr>\n",
              "    <tr>\n",
              "      <th>4</th>\n",
              "      <td>5</td>\n",
              "      <td>Argentina</td>\n",
              "      <td>ARG</td>\n",
              "      <td>0.0</td>\n",
              "      <td>51</td>\n",
              "      <td>5</td>\n",
              "      <td>0.0</td>\n",
              "      <td>0.0</td>\n",
              "      <td>0.0</td>\n",
              "      <td>0.0</td>\n",
              "      <td>0.0</td>\n",
              "      <td>0.0</td>\n",
              "      <td>0.0</td>\n",
              "      <td>0.0</td>\n",
              "      <td>CONMEBOL</td>\n",
              "      <td>1993-08-08</td>\n",
              "    </tr>\n",
              "    <tr>\n",
              "      <th>5</th>\n",
              "      <td>6</td>\n",
              "      <td>Republic of Ireland</td>\n",
              "      <td>IRL</td>\n",
              "      <td>0.0</td>\n",
              "      <td>54</td>\n",
              "      <td>0</td>\n",
              "      <td>0.0</td>\n",
              "      <td>0.0</td>\n",
              "      <td>0.0</td>\n",
              "      <td>0.0</td>\n",
              "      <td>0.0</td>\n",
              "      <td>0.0</td>\n",
              "      <td>0.0</td>\n",
              "      <td>0.0</td>\n",
              "      <td>UEFA</td>\n",
              "      <td>1993-08-08</td>\n",
              "    </tr>\n",
              "  </tbody>\n",
              "</table>\n",
              "</div>"
            ],
            "text/plain": [
              "   rank         country_full  ... confederation   rank_date\n",
              "0     1              Germany  ...          UEFA  1993-08-08\n",
              "1     2                Italy  ...          UEFA  1993-08-08\n",
              "2     3          Switzerland  ...          UEFA  1993-08-08\n",
              "3     4               Sweden  ...          UEFA  1993-08-08\n",
              "4     5            Argentina  ...      CONMEBOL  1993-08-08\n",
              "5     6  Republic of Ireland  ...          UEFA  1993-08-08\n",
              "\n",
              "[6 rows x 16 columns]"
            ]
          },
          "metadata": {
            "tags": []
          },
          "execution_count": 180
        }
      ]
    },
    {
      "cell_type": "code",
      "metadata": {
        "id": "xGNUFKDJ4EcW",
        "colab_type": "code",
        "outputId": "6b9b4d87-3e9a-4360-971e-3992be8f4d6c",
        "colab": {
          "base_uri": "https://localhost:8080/",
          "height": 225
        }
      },
      "source": [
        "#Loading our results dataset.\n",
        "results_dataset=pd.read_csv('results.csv')\n",
        "results_dataset.head(6)"
      ],
      "execution_count": 181,
      "outputs": [
        {
          "output_type": "execute_result",
          "data": {
            "text/html": [
              "<div>\n",
              "<style scoped>\n",
              "    .dataframe tbody tr th:only-of-type {\n",
              "        vertical-align: middle;\n",
              "    }\n",
              "\n",
              "    .dataframe tbody tr th {\n",
              "        vertical-align: top;\n",
              "    }\n",
              "\n",
              "    .dataframe thead th {\n",
              "        text-align: right;\n",
              "    }\n",
              "</style>\n",
              "<table border=\"1\" class=\"dataframe\">\n",
              "  <thead>\n",
              "    <tr style=\"text-align: right;\">\n",
              "      <th></th>\n",
              "      <th>date</th>\n",
              "      <th>home_team</th>\n",
              "      <th>away_team</th>\n",
              "      <th>home_score</th>\n",
              "      <th>away_score</th>\n",
              "      <th>tournament</th>\n",
              "      <th>city</th>\n",
              "      <th>country</th>\n",
              "      <th>neutral</th>\n",
              "    </tr>\n",
              "  </thead>\n",
              "  <tbody>\n",
              "    <tr>\n",
              "      <th>0</th>\n",
              "      <td>1872-11-30</td>\n",
              "      <td>Scotland</td>\n",
              "      <td>England</td>\n",
              "      <td>0</td>\n",
              "      <td>0</td>\n",
              "      <td>Friendly</td>\n",
              "      <td>Glasgow</td>\n",
              "      <td>Scotland</td>\n",
              "      <td>False</td>\n",
              "    </tr>\n",
              "    <tr>\n",
              "      <th>1</th>\n",
              "      <td>1873-03-08</td>\n",
              "      <td>England</td>\n",
              "      <td>Scotland</td>\n",
              "      <td>4</td>\n",
              "      <td>2</td>\n",
              "      <td>Friendly</td>\n",
              "      <td>London</td>\n",
              "      <td>England</td>\n",
              "      <td>False</td>\n",
              "    </tr>\n",
              "    <tr>\n",
              "      <th>2</th>\n",
              "      <td>1874-03-07</td>\n",
              "      <td>Scotland</td>\n",
              "      <td>England</td>\n",
              "      <td>2</td>\n",
              "      <td>1</td>\n",
              "      <td>Friendly</td>\n",
              "      <td>Glasgow</td>\n",
              "      <td>Scotland</td>\n",
              "      <td>False</td>\n",
              "    </tr>\n",
              "    <tr>\n",
              "      <th>3</th>\n",
              "      <td>1875-03-06</td>\n",
              "      <td>England</td>\n",
              "      <td>Scotland</td>\n",
              "      <td>2</td>\n",
              "      <td>2</td>\n",
              "      <td>Friendly</td>\n",
              "      <td>London</td>\n",
              "      <td>England</td>\n",
              "      <td>False</td>\n",
              "    </tr>\n",
              "    <tr>\n",
              "      <th>4</th>\n",
              "      <td>1876-03-04</td>\n",
              "      <td>Scotland</td>\n",
              "      <td>England</td>\n",
              "      <td>3</td>\n",
              "      <td>0</td>\n",
              "      <td>Friendly</td>\n",
              "      <td>Glasgow</td>\n",
              "      <td>Scotland</td>\n",
              "      <td>False</td>\n",
              "    </tr>\n",
              "    <tr>\n",
              "      <th>5</th>\n",
              "      <td>1876-03-25</td>\n",
              "      <td>Scotland</td>\n",
              "      <td>Wales</td>\n",
              "      <td>4</td>\n",
              "      <td>0</td>\n",
              "      <td>Friendly</td>\n",
              "      <td>Glasgow</td>\n",
              "      <td>Scotland</td>\n",
              "      <td>False</td>\n",
              "    </tr>\n",
              "  </tbody>\n",
              "</table>\n",
              "</div>"
            ],
            "text/plain": [
              "         date home_team away_team  ...     city   country neutral\n",
              "0  1872-11-30  Scotland   England  ...  Glasgow  Scotland   False\n",
              "1  1873-03-08   England  Scotland  ...   London   England   False\n",
              "2  1874-03-07  Scotland   England  ...  Glasgow  Scotland   False\n",
              "3  1875-03-06   England  Scotland  ...   London   England   False\n",
              "4  1876-03-04  Scotland   England  ...  Glasgow  Scotland   False\n",
              "5  1876-03-25  Scotland     Wales  ...  Glasgow  Scotland   False\n",
              "\n",
              "[6 rows x 9 columns]"
            ]
          },
          "metadata": {
            "tags": []
          },
          "execution_count": 181
        }
      ]
    },
    {
      "cell_type": "code",
      "metadata": {
        "id": "I7SCW0_X5i0g",
        "colab_type": "code",
        "outputId": "5f8722a2-748e-4bdc-d94e-f3925b3c4bde",
        "colab": {
          "base_uri": "https://localhost:8080/",
          "height": 34
        }
      },
      "source": [
        "#Checking the number of features and attributes.\n",
        "print(rankings_dataset.shape)"
      ],
      "execution_count": 182,
      "outputs": [
        {
          "output_type": "stream",
          "text": [
            "(57793, 16)\n"
          ],
          "name": "stdout"
        }
      ]
    },
    {
      "cell_type": "code",
      "metadata": {
        "id": "JyhaFlat6DM1",
        "colab_type": "code",
        "outputId": "5ce9b26b-4301-4bef-aabb-5d68a5a60833",
        "colab": {
          "base_uri": "https://localhost:8080/",
          "height": 34
        }
      },
      "source": [
        "#Checking the number of features and attributes.\n",
        "print(results_dataset.shape)"
      ],
      "execution_count": 183,
      "outputs": [
        {
          "output_type": "stream",
          "text": [
            "(40839, 9)\n"
          ],
          "name": "stdout"
        }
      ]
    },
    {
      "cell_type": "code",
      "metadata": {
        "id": "MiT-6hvZ6bVI",
        "colab_type": "code",
        "outputId": "0420ad2a-f11f-49a8-9125-fef1c53263a9",
        "colab": {
          "base_uri": "https://localhost:8080/",
          "height": 151
        }
      },
      "source": [
        "#Checking for more information on the rankings dataset.\n",
        "print(rankings_dataset.head(5))"
      ],
      "execution_count": 184,
      "outputs": [
        {
          "output_type": "stream",
          "text": [
            "   rank country_full  ... confederation   rank_date\n",
            "0     1      Germany  ...          UEFA  1993-08-08\n",
            "1     2        Italy  ...          UEFA  1993-08-08\n",
            "2     3  Switzerland  ...          UEFA  1993-08-08\n",
            "3     4       Sweden  ...          UEFA  1993-08-08\n",
            "4     5    Argentina  ...      CONMEBOL  1993-08-08\n",
            "\n",
            "[5 rows x 16 columns]\n"
          ],
          "name": "stdout"
        }
      ]
    },
    {
      "cell_type": "code",
      "metadata": {
        "id": "NU57panF6wyz",
        "colab_type": "code",
        "outputId": "50f8865a-47e9-484e-8e19-3eed05ded355",
        "colab": {
          "base_uri": "https://localhost:8080/",
          "height": 151
        }
      },
      "source": [
        "print(results_dataset.head(5))"
      ],
      "execution_count": 185,
      "outputs": [
        {
          "output_type": "stream",
          "text": [
            "         date home_team away_team  ...     city   country neutral\n",
            "0  1872-11-30  Scotland   England  ...  Glasgow  Scotland   False\n",
            "1  1873-03-08   England  Scotland  ...   London   England   False\n",
            "2  1874-03-07  Scotland   England  ...  Glasgow  Scotland   False\n",
            "3  1875-03-06   England  Scotland  ...   London   England   False\n",
            "4  1876-03-04  Scotland   England  ...  Glasgow  Scotland   False\n",
            "\n",
            "[5 rows x 9 columns]\n"
          ],
          "name": "stdout"
        }
      ]
    },
    {
      "cell_type": "code",
      "metadata": {
        "id": "4x85QX4W66Uw",
        "colab_type": "code",
        "outputId": "5caa53f8-a4a6-4041-9466-b2a52f268508",
        "colab": {
          "base_uri": "https://localhost:8080/",
          "height": 202
        }
      },
      "source": [
        "#Description statistics for the rankings dataset\n",
        "print(rankings_dataset.describe())"
      ],
      "execution_count": 186,
      "outputs": [
        {
          "output_type": "stream",
          "text": [
            "               rank  total_points  ...  three_year_ago_avg  three_year_ago_weighted\n",
            "count  57793.000000  57793.000000  ...        57793.000000             57793.000000\n",
            "mean     101.628086    122.068637  ...           59.173916                11.834811\n",
            "std       58.618424    260.426863  ...          135.533343                27.106675\n",
            "min        1.000000      0.000000  ...            0.000000                 0.000000\n",
            "25%       51.000000      0.000000  ...            0.000000                 0.000000\n",
            "50%      101.000000      0.000000  ...            0.000000                 0.000000\n",
            "75%      152.000000     92.790000  ...           21.250000                 4.250000\n",
            "max      209.000000   1775.030000  ...         1200.770000               240.150000\n",
            "\n",
            "[8 rows x 12 columns]\n"
          ],
          "name": "stdout"
        }
      ]
    },
    {
      "cell_type": "code",
      "metadata": {
        "id": "QTIpSwT97Jkv",
        "colab_type": "code",
        "outputId": "acfff17c-ef47-43ff-9865-b3c00154cbc8",
        "colab": {
          "base_uri": "https://localhost:8080/",
          "height": 168
        }
      },
      "source": [
        "#Statistical overview of the results dataset\n",
        "print(results_dataset.describe())"
      ],
      "execution_count": 187,
      "outputs": [
        {
          "output_type": "stream",
          "text": [
            "         home_score    away_score\n",
            "count  40839.000000  40839.000000\n",
            "mean       1.745709      1.188105\n",
            "std        1.749145      1.405120\n",
            "min        0.000000      0.000000\n",
            "25%        1.000000      0.000000\n",
            "50%        1.000000      1.000000\n",
            "75%        2.000000      2.000000\n",
            "max       31.000000     21.000000\n"
          ],
          "name": "stdout"
        }
      ]
    },
    {
      "cell_type": "code",
      "metadata": {
        "id": "lPhmViAp7Uxs",
        "colab_type": "code",
        "outputId": "238a5c83-16ad-4c67-8bf0-a5faedffca3b",
        "colab": {
          "base_uri": "https://localhost:8080/",
          "height": 118
        }
      },
      "source": [
        "#Checking the Column names on the rankings dataset.\n",
        "rankings_dataset.columns"
      ],
      "execution_count": 188,
      "outputs": [
        {
          "output_type": "execute_result",
          "data": {
            "text/plain": [
              "Index(['rank', 'country_full', 'country_abrv', 'total_points',\n",
              "       'previous_points', 'rank_change', 'cur_year_avg',\n",
              "       'cur_year_avg_weighted', 'last_year_avg', 'last_year_avg_weighted',\n",
              "       'two_year_ago_avg', 'two_year_ago_weighted', 'three_year_ago_avg',\n",
              "       'three_year_ago_weighted', 'confederation', 'rank_date'],\n",
              "      dtype='object')"
            ]
          },
          "metadata": {
            "tags": []
          },
          "execution_count": 188
        }
      ]
    },
    {
      "cell_type": "code",
      "metadata": {
        "id": "Fr98ulUEGOzU",
        "colab_type": "code",
        "outputId": "599fb0b8-bfa8-4515-fce8-b7b1962ba46d",
        "colab": {
          "base_uri": "https://localhost:8080/",
          "height": 67
        }
      },
      "source": [
        "#Checking the names of columns in the results dataset.\n",
        "results_dataset.columns"
      ],
      "execution_count": 189,
      "outputs": [
        {
          "output_type": "execute_result",
          "data": {
            "text/plain": [
              "Index(['date', 'home_team', 'away_team', 'home_score', 'away_score',\n",
              "       'tournament', 'city', 'country', 'neutral'],\n",
              "      dtype='object')"
            ]
          },
          "metadata": {
            "tags": []
          },
          "execution_count": 189
        }
      ]
    },
    {
      "cell_type": "code",
      "metadata": {
        "id": "G8XVRryv3WYT",
        "colab_type": "code",
        "outputId": "3f3a0d07-8728-442d-a536-cf117e0a694f",
        "colab": {
          "base_uri": "https://localhost:8080/",
          "height": 386
        }
      },
      "source": [
        "#Checking for information on rankings dataset\n",
        "print(rankings_dataset.info())"
      ],
      "execution_count": 190,
      "outputs": [
        {
          "output_type": "stream",
          "text": [
            "<class 'pandas.core.frame.DataFrame'>\n",
            "RangeIndex: 57793 entries, 0 to 57792\n",
            "Data columns (total 16 columns):\n",
            "rank                       57793 non-null int64\n",
            "country_full               57793 non-null object\n",
            "country_abrv               57793 non-null object\n",
            "total_points               57793 non-null float64\n",
            "previous_points            57793 non-null int64\n",
            "rank_change                57793 non-null int64\n",
            "cur_year_avg               57793 non-null float64\n",
            "cur_year_avg_weighted      57793 non-null float64\n",
            "last_year_avg              57793 non-null float64\n",
            "last_year_avg_weighted     57793 non-null float64\n",
            "two_year_ago_avg           57793 non-null float64\n",
            "two_year_ago_weighted      57793 non-null float64\n",
            "three_year_ago_avg         57793 non-null float64\n",
            "three_year_ago_weighted    57793 non-null float64\n",
            "confederation              57793 non-null object\n",
            "rank_date                  57793 non-null object\n",
            "dtypes: float64(9), int64(3), object(4)\n",
            "memory usage: 7.1+ MB\n",
            "None\n"
          ],
          "name": "stdout"
        }
      ]
    },
    {
      "cell_type": "code",
      "metadata": {
        "id": "Ogr9vOtoHQ_B",
        "colab_type": "code",
        "outputId": "c8b049aa-2ee3-4fee-d09c-db4bbaf73b76",
        "colab": {
          "base_uri": "https://localhost:8080/",
          "height": 269
        }
      },
      "source": [
        "#Checking information of the results dataset.\n",
        "print(results_dataset.info())"
      ],
      "execution_count": 191,
      "outputs": [
        {
          "output_type": "stream",
          "text": [
            "<class 'pandas.core.frame.DataFrame'>\n",
            "RangeIndex: 40839 entries, 0 to 40838\n",
            "Data columns (total 9 columns):\n",
            "date          40839 non-null object\n",
            "home_team     40839 non-null object\n",
            "away_team     40839 non-null object\n",
            "home_score    40839 non-null int64\n",
            "away_score    40839 non-null int64\n",
            "tournament    40839 non-null object\n",
            "city          40839 non-null object\n",
            "country       40839 non-null object\n",
            "neutral       40839 non-null bool\n",
            "dtypes: bool(1), int64(2), object(6)\n",
            "memory usage: 2.5+ MB\n",
            "None\n"
          ],
          "name": "stdout"
        }
      ]
    },
    {
      "cell_type": "code",
      "metadata": {
        "id": "5TmfDZiWHd7N",
        "colab_type": "code",
        "outputId": "19cd9f13-290c-4294-96f0-c4fd4e91c2a3",
        "colab": {
          "base_uri": "https://localhost:8080/",
          "height": 225
        }
      },
      "source": [
        "#Getting rid of the unwanted columns\n",
        "rankings_dataset=rankings_dataset.drop(['country_abrv','cur_year_avg','cur_year_avg_weighted','total_points',\n",
        "                                        'two_year_ago_avg','two_year_ago_weighted','three_year_ago_avg','three_year_ago_weighted'],axis=1)\n",
        "rankings_dataset.head(6)"
      ],
      "execution_count": 193,
      "outputs": [
        {
          "output_type": "execute_result",
          "data": {
            "text/html": [
              "<div>\n",
              "<style scoped>\n",
              "    .dataframe tbody tr th:only-of-type {\n",
              "        vertical-align: middle;\n",
              "    }\n",
              "\n",
              "    .dataframe tbody tr th {\n",
              "        vertical-align: top;\n",
              "    }\n",
              "\n",
              "    .dataframe thead th {\n",
              "        text-align: right;\n",
              "    }\n",
              "</style>\n",
              "<table border=\"1\" class=\"dataframe\">\n",
              "  <thead>\n",
              "    <tr style=\"text-align: right;\">\n",
              "      <th></th>\n",
              "      <th>rank</th>\n",
              "      <th>country_full</th>\n",
              "      <th>previous_points</th>\n",
              "      <th>rank_change</th>\n",
              "      <th>last_year_avg</th>\n",
              "      <th>last_year_avg_weighted</th>\n",
              "      <th>confederation</th>\n",
              "      <th>rank_date</th>\n",
              "    </tr>\n",
              "  </thead>\n",
              "  <tbody>\n",
              "    <tr>\n",
              "      <th>0</th>\n",
              "      <td>1</td>\n",
              "      <td>Germany</td>\n",
              "      <td>57</td>\n",
              "      <td>0</td>\n",
              "      <td>0.0</td>\n",
              "      <td>0.0</td>\n",
              "      <td>UEFA</td>\n",
              "      <td>1993-08-08</td>\n",
              "    </tr>\n",
              "    <tr>\n",
              "      <th>1</th>\n",
              "      <td>2</td>\n",
              "      <td>Italy</td>\n",
              "      <td>57</td>\n",
              "      <td>0</td>\n",
              "      <td>0.0</td>\n",
              "      <td>0.0</td>\n",
              "      <td>UEFA</td>\n",
              "      <td>1993-08-08</td>\n",
              "    </tr>\n",
              "    <tr>\n",
              "      <th>2</th>\n",
              "      <td>3</td>\n",
              "      <td>Switzerland</td>\n",
              "      <td>50</td>\n",
              "      <td>9</td>\n",
              "      <td>0.0</td>\n",
              "      <td>0.0</td>\n",
              "      <td>UEFA</td>\n",
              "      <td>1993-08-08</td>\n",
              "    </tr>\n",
              "    <tr>\n",
              "      <th>3</th>\n",
              "      <td>4</td>\n",
              "      <td>Sweden</td>\n",
              "      <td>55</td>\n",
              "      <td>0</td>\n",
              "      <td>0.0</td>\n",
              "      <td>0.0</td>\n",
              "      <td>UEFA</td>\n",
              "      <td>1993-08-08</td>\n",
              "    </tr>\n",
              "    <tr>\n",
              "      <th>4</th>\n",
              "      <td>5</td>\n",
              "      <td>Argentina</td>\n",
              "      <td>51</td>\n",
              "      <td>5</td>\n",
              "      <td>0.0</td>\n",
              "      <td>0.0</td>\n",
              "      <td>CONMEBOL</td>\n",
              "      <td>1993-08-08</td>\n",
              "    </tr>\n",
              "    <tr>\n",
              "      <th>5</th>\n",
              "      <td>6</td>\n",
              "      <td>Republic of Ireland</td>\n",
              "      <td>54</td>\n",
              "      <td>0</td>\n",
              "      <td>0.0</td>\n",
              "      <td>0.0</td>\n",
              "      <td>UEFA</td>\n",
              "      <td>1993-08-08</td>\n",
              "    </tr>\n",
              "  </tbody>\n",
              "</table>\n",
              "</div>"
            ],
            "text/plain": [
              "   rank         country_full  ...  confederation   rank_date\n",
              "0     1              Germany  ...           UEFA  1993-08-08\n",
              "1     2                Italy  ...           UEFA  1993-08-08\n",
              "2     3          Switzerland  ...           UEFA  1993-08-08\n",
              "3     4               Sweden  ...           UEFA  1993-08-08\n",
              "4     5            Argentina  ...       CONMEBOL  1993-08-08\n",
              "5     6  Republic of Ireland  ...           UEFA  1993-08-08\n",
              "\n",
              "[6 rows x 8 columns]"
            ]
          },
          "metadata": {
            "tags": []
          },
          "execution_count": 193
        }
      ]
    },
    {
      "cell_type": "code",
      "metadata": {
        "id": "bo9FIhsTtnOu",
        "colab_type": "code",
        "colab": {}
      },
      "source": [
        "results_dataset=results_dataset.drop(['city'],axis=1)"
      ],
      "execution_count": 0,
      "outputs": []
    },
    {
      "cell_type": "code",
      "metadata": {
        "id": "okO2aGSR4oUv",
        "colab_type": "code",
        "outputId": "0dc60586-0a20-449e-dbc7-769e4e56d9db",
        "colab": {
          "base_uri": "https://localhost:8080/",
          "height": 67
        }
      },
      "source": [
        "#Renaming our two columns for easier merging.\n",
        "rankings_dataset.rename(columns={\"country_full\":\"country\",\"rank_date\":\"date\"}, inplace=True)\n",
        "rankings_dataset.columns"
      ],
      "execution_count": 196,
      "outputs": [
        {
          "output_type": "execute_result",
          "data": {
            "text/plain": [
              "Index(['rank', 'country', 'previous_points', 'rank_change', 'last_year_avg',\n",
              "       'last_year_avg_weighted', 'confederation', 'date'],\n",
              "      dtype='object')"
            ]
          },
          "metadata": {
            "tags": []
          },
          "execution_count": 196
        }
      ]
    },
    {
      "cell_type": "code",
      "metadata": {
        "id": "_LSEEuP-zMj8",
        "colab_type": "code",
        "outputId": "9494a474-b50b-4ad4-d0f9-df781d0573f8",
        "colab": {
          "base_uri": "https://localhost:8080/",
          "height": 396
        }
      },
      "source": [
        "#Merging the two datasets with country and date.\n",
        "rankings_results=pd.merge(rankings_dataset,results_dataset,on=[\"country\",\"date\"])\n",
        "rankings_results.head(6)"
      ],
      "execution_count": 197,
      "outputs": [
        {
          "output_type": "execute_result",
          "data": {
            "text/html": [
              "<div>\n",
              "<style scoped>\n",
              "    .dataframe tbody tr th:only-of-type {\n",
              "        vertical-align: middle;\n",
              "    }\n",
              "\n",
              "    .dataframe tbody tr th {\n",
              "        vertical-align: top;\n",
              "    }\n",
              "\n",
              "    .dataframe thead th {\n",
              "        text-align: right;\n",
              "    }\n",
              "</style>\n",
              "<table border=\"1\" class=\"dataframe\">\n",
              "  <thead>\n",
              "    <tr style=\"text-align: right;\">\n",
              "      <th></th>\n",
              "      <th>rank</th>\n",
              "      <th>country</th>\n",
              "      <th>previous_points</th>\n",
              "      <th>rank_change</th>\n",
              "      <th>last_year_avg</th>\n",
              "      <th>last_year_avg_weighted</th>\n",
              "      <th>confederation</th>\n",
              "      <th>date</th>\n",
              "      <th>home_team</th>\n",
              "      <th>away_team</th>\n",
              "      <th>home_score</th>\n",
              "      <th>away_score</th>\n",
              "      <th>tournament</th>\n",
              "      <th>neutral</th>\n",
              "    </tr>\n",
              "  </thead>\n",
              "  <tbody>\n",
              "    <tr>\n",
              "      <th>0</th>\n",
              "      <td>8</td>\n",
              "      <td>Brazil</td>\n",
              "      <td>55</td>\n",
              "      <td>-5</td>\n",
              "      <td>0.0</td>\n",
              "      <td>0.0</td>\n",
              "      <td>CONMEBOL</td>\n",
              "      <td>1993-08-08</td>\n",
              "      <td>Brazil</td>\n",
              "      <td>Mexico</td>\n",
              "      <td>1</td>\n",
              "      <td>1</td>\n",
              "      <td>Friendly</td>\n",
              "      <td>False</td>\n",
              "    </tr>\n",
              "    <tr>\n",
              "      <th>1</th>\n",
              "      <td>35</td>\n",
              "      <td>Ecuador</td>\n",
              "      <td>23</td>\n",
              "      <td>30</td>\n",
              "      <td>0.0</td>\n",
              "      <td>0.0</td>\n",
              "      <td>CONMEBOL</td>\n",
              "      <td>1993-08-08</td>\n",
              "      <td>Ecuador</td>\n",
              "      <td>Venezuela</td>\n",
              "      <td>5</td>\n",
              "      <td>0</td>\n",
              "      <td>FIFA World Cup qualification</td>\n",
              "      <td>False</td>\n",
              "    </tr>\n",
              "    <tr>\n",
              "      <th>2</th>\n",
              "      <td>50</td>\n",
              "      <td>Zimbabwe</td>\n",
              "      <td>27</td>\n",
              "      <td>4</td>\n",
              "      <td>0.0</td>\n",
              "      <td>0.0</td>\n",
              "      <td>CAF</td>\n",
              "      <td>1993-08-08</td>\n",
              "      <td>Zimbabwe</td>\n",
              "      <td>Eswatini</td>\n",
              "      <td>2</td>\n",
              "      <td>0</td>\n",
              "      <td>Friendly</td>\n",
              "      <td>False</td>\n",
              "    </tr>\n",
              "    <tr>\n",
              "      <th>3</th>\n",
              "      <td>59</td>\n",
              "      <td>Bolivia</td>\n",
              "      <td>13</td>\n",
              "      <td>28</td>\n",
              "      <td>0.0</td>\n",
              "      <td>0.0</td>\n",
              "      <td>CONMEBOL</td>\n",
              "      <td>1993-08-08</td>\n",
              "      <td>Bolivia</td>\n",
              "      <td>Uruguay</td>\n",
              "      <td>3</td>\n",
              "      <td>1</td>\n",
              "      <td>FIFA World Cup qualification</td>\n",
              "      <td>False</td>\n",
              "    </tr>\n",
              "    <tr>\n",
              "      <th>4</th>\n",
              "      <td>65</td>\n",
              "      <td>Guinea</td>\n",
              "      <td>23</td>\n",
              "      <td>-2</td>\n",
              "      <td>0.0</td>\n",
              "      <td>0.0</td>\n",
              "      <td>CAF</td>\n",
              "      <td>1993-08-08</td>\n",
              "      <td>Guinea</td>\n",
              "      <td>Sierra Leone</td>\n",
              "      <td>1</td>\n",
              "      <td>0</td>\n",
              "      <td>Friendly</td>\n",
              "      <td>False</td>\n",
              "    </tr>\n",
              "    <tr>\n",
              "      <th>5</th>\n",
              "      <td>67</td>\n",
              "      <td>Paraguay</td>\n",
              "      <td>22</td>\n",
              "      <td>1</td>\n",
              "      <td>0.0</td>\n",
              "      <td>0.0</td>\n",
              "      <td>CONMEBOL</td>\n",
              "      <td>1993-08-08</td>\n",
              "      <td>Paraguay</td>\n",
              "      <td>Argentina</td>\n",
              "      <td>1</td>\n",
              "      <td>3</td>\n",
              "      <td>FIFA World Cup qualification</td>\n",
              "      <td>False</td>\n",
              "    </tr>\n",
              "  </tbody>\n",
              "</table>\n",
              "</div>"
            ],
            "text/plain": [
              "   rank   country  ...                    tournament  neutral\n",
              "0     8    Brazil  ...                      Friendly    False\n",
              "1    35   Ecuador  ...  FIFA World Cup qualification    False\n",
              "2    50  Zimbabwe  ...                      Friendly    False\n",
              "3    59   Bolivia  ...  FIFA World Cup qualification    False\n",
              "4    65    Guinea  ...                      Friendly    False\n",
              "5    67  Paraguay  ...  FIFA World Cup qualification    False\n",
              "\n",
              "[6 rows x 14 columns]"
            ]
          },
          "metadata": {
            "tags": []
          },
          "execution_count": 197
        }
      ]
    },
    {
      "cell_type": "code",
      "metadata": {
        "id": "7LPT_AQP6bNt",
        "colab_type": "code",
        "outputId": "cbec6920-aaf7-4a03-fd95-e45a7f6f2bdf",
        "colab": {
          "base_uri": "https://localhost:8080/",
          "height": 34
        }
      },
      "source": [
        "#Checking the number of rows and columns after merging.\n",
        "rankings_results.shape"
      ],
      "execution_count": 198,
      "outputs": [
        {
          "output_type": "execute_result",
          "data": {
            "text/plain": [
              "(950, 14)"
            ]
          },
          "metadata": {
            "tags": []
          },
          "execution_count": 198
        }
      ]
    },
    {
      "cell_type": "markdown",
      "metadata": {
        "id": "NVt3ExqXNHiY",
        "colab_type": "text"
      },
      "source": [
        "#EXPLORATORY DATA ANALYSIS."
      ]
    },
    {
      "cell_type": "code",
      "metadata": {
        "id": "miq-tiwQNkJJ",
        "colab_type": "code",
        "colab": {
          "base_uri": "https://localhost:8080/",
          "height": 286
        },
        "outputId": "fc9e00dd-b634-41b5-e354-079e69ed591f"
      },
      "source": [
        "#checking for outliers on away_scores\n",
        "rankings_results['away_score'].plot(kind='box')"
      ],
      "execution_count": 199,
      "outputs": [
        {
          "output_type": "execute_result",
          "data": {
            "text/plain": [
              "<matplotlib.axes._subplots.AxesSubplot at 0x7fc34f0eb358>"
            ]
          },
          "metadata": {
            "tags": []
          },
          "execution_count": 199
        },
        {
          "output_type": "display_data",
          "data": {
            "image/png": "[encoded data removed]",
            "text/plain": [
              "<Figure size 432x288 with 1 Axes>"
            ]
          },
          "metadata": {
            "tags": []
          }
        }
      ]
    },
    {
      "cell_type": "code",
      "metadata": {
        "id": "VyrGN9Ak_63R",
        "colab_type": "code",
        "colab": {
          "base_uri": "https://localhost:8080/",
          "height": 287
        },
        "outputId": "cdaa26e3-e1ef-43ef-d5e6-2650dbf5e02d"
      },
      "source": [
        "#checking for outliers on home_scores\n",
        "rankings_results['home_score'].plot(kind='box')"
      ],
      "execution_count": 200,
      "outputs": [
        {
          "output_type": "execute_result",
          "data": {
            "text/plain": [
              "<matplotlib.axes._subplots.AxesSubplot at 0x7fc34f0ebef0>"
            ]
          },
          "metadata": {
            "tags": []
          },
          "execution_count": 200
        },
        {
          "output_type": "display_data",
          "data": {
            "image/png": "[encoded data removed]",
            "text/plain": [
              "<Figure size 432x288 with 1 Axes>"
            ]
          },
          "metadata": {
            "tags": []
          }
        }
      ]
    },
    {
      "cell_type": "code",
      "metadata": {
        "id": "uKYFbZK_ATB4",
        "colab_type": "code",
        "colab": {
          "base_uri": "https://localhost:8080/",
          "height": 304
        },
        "outputId": "355d05ca-497f-47bf-c16f-ddacc7f3d8b3"
      },
      "source": [
        "rankings_results.corr()"
      ],
      "execution_count": 201,
      "outputs": [
        {
          "output_type": "execute_result",
          "data": {
            "text/html": [
              "<div>\n",
              "<style scoped>\n",
              "    .dataframe tbody tr th:only-of-type {\n",
              "        vertical-align: middle;\n",
              "    }\n",
              "\n",
              "    .dataframe tbody tr th {\n",
              "        vertical-align: top;\n",
              "    }\n",
              "\n",
              "    .dataframe thead th {\n",
              "        text-align: right;\n",
              "    }\n",
              "</style>\n",
              "<table border=\"1\" class=\"dataframe\">\n",
              "  <thead>\n",
              "    <tr style=\"text-align: right;\">\n",
              "      <th></th>\n",
              "      <th>rank</th>\n",
              "      <th>previous_points</th>\n",
              "      <th>rank_change</th>\n",
              "      <th>last_year_avg</th>\n",
              "      <th>last_year_avg_weighted</th>\n",
              "      <th>home_score</th>\n",
              "      <th>away_score</th>\n",
              "      <th>neutral</th>\n",
              "    </tr>\n",
              "  </thead>\n",
              "  <tbody>\n",
              "    <tr>\n",
              "      <th>rank</th>\n",
              "      <td>1.000000</td>\n",
              "      <td>-0.612405</td>\n",
              "      <td>-0.060181</td>\n",
              "      <td>-0.096341</td>\n",
              "      <td>-0.096340</td>\n",
              "      <td>-0.016345</td>\n",
              "      <td>0.052657</td>\n",
              "      <td>0.023620</td>\n",
              "    </tr>\n",
              "    <tr>\n",
              "      <th>previous_points</th>\n",
              "      <td>-0.612405</td>\n",
              "      <td>1.000000</td>\n",
              "      <td>-0.031568</td>\n",
              "      <td>0.227159</td>\n",
              "      <td>0.227158</td>\n",
              "      <td>-0.010888</td>\n",
              "      <td>-0.010227</td>\n",
              "      <td>0.116232</td>\n",
              "    </tr>\n",
              "    <tr>\n",
              "      <th>rank_change</th>\n",
              "      <td>-0.060181</td>\n",
              "      <td>-0.031568</td>\n",
              "      <td>1.000000</td>\n",
              "      <td>-0.015667</td>\n",
              "      <td>-0.015667</td>\n",
              "      <td>0.043233</td>\n",
              "      <td>-0.038677</td>\n",
              "      <td>-0.000194</td>\n",
              "    </tr>\n",
              "    <tr>\n",
              "      <th>last_year_avg</th>\n",
              "      <td>-0.096341</td>\n",
              "      <td>0.227159</td>\n",
              "      <td>-0.015667</td>\n",
              "      <td>1.000000</td>\n",
              "      <td>1.000000</td>\n",
              "      <td>0.047322</td>\n",
              "      <td>0.060099</td>\n",
              "      <td>0.147711</td>\n",
              "    </tr>\n",
              "    <tr>\n",
              "      <th>last_year_avg_weighted</th>\n",
              "      <td>-0.096340</td>\n",
              "      <td>0.227158</td>\n",
              "      <td>-0.015667</td>\n",
              "      <td>1.000000</td>\n",
              "      <td>1.000000</td>\n",
              "      <td>0.047323</td>\n",
              "      <td>0.060099</td>\n",
              "      <td>0.147710</td>\n",
              "    </tr>\n",
              "    <tr>\n",
              "      <th>home_score</th>\n",
              "      <td>-0.016345</td>\n",
              "      <td>-0.010888</td>\n",
              "      <td>0.043233</td>\n",
              "      <td>0.047322</td>\n",
              "      <td>0.047323</td>\n",
              "      <td>1.000000</td>\n",
              "      <td>-0.130928</td>\n",
              "      <td>0.022904</td>\n",
              "    </tr>\n",
              "    <tr>\n",
              "      <th>away_score</th>\n",
              "      <td>0.052657</td>\n",
              "      <td>-0.010227</td>\n",
              "      <td>-0.038677</td>\n",
              "      <td>0.060099</td>\n",
              "      <td>0.060099</td>\n",
              "      <td>-0.130928</td>\n",
              "      <td>1.000000</td>\n",
              "      <td>0.147866</td>\n",
              "    </tr>\n",
              "    <tr>\n",
              "      <th>neutral</th>\n",
              "      <td>0.023620</td>\n",
              "      <td>0.116232</td>\n",
              "      <td>-0.000194</td>\n",
              "      <td>0.147711</td>\n",
              "      <td>0.147710</td>\n",
              "      <td>0.022904</td>\n",
              "      <td>0.147866</td>\n",
              "      <td>1.000000</td>\n",
              "    </tr>\n",
              "  </tbody>\n",
              "</table>\n",
              "</div>"
            ],
            "text/plain": [
              "                            rank  previous_points  ...  away_score   neutral\n",
              "rank                    1.000000        -0.612405  ...    0.052657  0.023620\n",
              "previous_points        -0.612405         1.000000  ...   -0.010227  0.116232\n",
              "rank_change            -0.060181        -0.031568  ...   -0.038677 -0.000194\n",
              "last_year_avg          -0.096341         0.227159  ...    0.060099  0.147711\n",
              "last_year_avg_weighted -0.096340         0.227158  ...    0.060099  0.147710\n",
              "home_score             -0.016345        -0.010888  ...   -0.130928  0.022904\n",
              "away_score              0.052657        -0.010227  ...    1.000000  0.147866\n",
              "neutral                 0.023620         0.116232  ...    0.147866  1.000000\n",
              "\n",
              "[8 rows x 8 columns]"
            ]
          },
          "metadata": {
            "tags": []
          },
          "execution_count": 201
        }
      ]
    },
    {
      "cell_type": "code",
      "metadata": {
        "id": "m5Wk0GgAAiys",
        "colab_type": "code",
        "colab": {
          "base_uri": "https://localhost:8080/",
          "height": 34
        },
        "outputId": "09590497-e18a-4fee-f00b-67d271d1568f"
      },
      "source": [
        "#checking for null values\n",
        "rankings_results.isnull().sum().any()"
      ],
      "execution_count": 202,
      "outputs": [
        {
          "output_type": "execute_result",
          "data": {
            "text/plain": [
              "False"
            ]
          },
          "metadata": {
            "tags": []
          },
          "execution_count": 202
        }
      ]
    },
    {
      "cell_type": "code",
      "metadata": {
        "id": "oG7mFTfzD6eZ",
        "colab_type": "code",
        "colab": {
          "base_uri": "https://localhost:8080/",
          "height": 34
        },
        "outputId": "f09a76b4-ef07-4483-da12-64528f659c73"
      },
      "source": [
        "#checking for the duplicates\n",
        "rankings_results.duplicated().any()"
      ],
      "execution_count": 203,
      "outputs": [
        {
          "output_type": "execute_result",
          "data": {
            "text/plain": [
              "False"
            ]
          },
          "metadata": {
            "tags": []
          },
          "execution_count": 203
        }
      ]
    },
    {
      "cell_type": "code",
      "metadata": {
        "id": "YjEeA_esTZnI",
        "colab_type": "code",
        "colab": {
          "base_uri": "https://localhost:8080/",
          "height": 269
        },
        "outputId": "217a98b0-9ec2-4e70-ef92-7dbc661b869a"
      },
      "source": [
        "rankings_results[['tournament','country','home_team', 'away_team','confederation']] = rankings_results[['tournament','country','home_team', 'away_team','confederation']].astype('category')\n",
        "rankings_results.dtypes"
      ],
      "execution_count": 206,
      "outputs": [
        {
          "output_type": "execute_result",
          "data": {
            "text/plain": [
              "rank                         int64\n",
              "country                   category\n",
              "previous_points              int64\n",
              "rank_change                  int64\n",
              "last_year_avg              float64\n",
              "last_year_avg_weighted     float64\n",
              "confederation             category\n",
              "date                        object\n",
              "home_team                 category\n",
              "away_team                 category\n",
              "home_score                   int64\n",
              "away_score                   int64\n",
              "tournament                category\n",
              "neutral                       bool\n",
              "dtype: object"
            ]
          },
          "metadata": {
            "tags": []
          },
          "execution_count": 206
        }
      ]
    },
    {
      "cell_type": "markdown",
      "metadata": {
        "id": "2Zprg3oaErEz",
        "colab_type": "text"
      },
      "source": [
        "#Visualizations."
      ]
    },
    {
      "cell_type": "code",
      "metadata": {
        "id": "JcVMQC8REx5_",
        "colab_type": "code",
        "colab": {
          "base_uri": "https://localhost:8080/",
          "height": 289
        },
        "outputId": "571a3b09-b034-4af6-eb8a-d990bfac6fd3"
      },
      "source": [
        "rankings_results['away_score'].value_counts().plot.bar()"
      ],
      "execution_count": 208,
      "outputs": [
        {
          "output_type": "execute_result",
          "data": {
            "text/plain": [
              "<matplotlib.axes._subplots.AxesSubplot at 0x7fc34ef41908>"
            ]
          },
          "metadata": {
            "tags": []
          },
          "execution_count": 208
        },
        {
          "output_type": "display_data",
          "data": {
            "image/png": "[encoded data removed]",
            "text/plain": [
              "<Figure size 432x288 with 1 Axes>"
            ]
          },
          "metadata": {
            "tags": []
          }
        }
      ]
    },
    {
      "cell_type": "code",
      "metadata": {
        "id": "8sOkMuDWFZdn",
        "colab_type": "code",
        "colab": {
          "base_uri": "https://localhost:8080/",
          "height": 289
        },
        "outputId": "a6d4ab26-91d1-490a-e03d-79f4de21b4dc"
      },
      "source": [
        "rankings_results['home_score'].value_counts().plot.bar()"
      ],
      "execution_count": 209,
      "outputs": [
        {
          "output_type": "execute_result",
          "data": {
            "text/plain": [
              "<matplotlib.axes._subplots.AxesSubplot at 0x7fc34ef147b8>"
            ]
          },
          "metadata": {
            "tags": []
          },
          "execution_count": 209
        },
        {
          "output_type": "display_data",
          "data": {
            "image/png": "[encoded data removed]",
            "text/plain": [
              "<Figure size 432x288 with 1 Axes>"
            ]
          },
          "metadata": {
            "tags": []
          }
        }
      ]
    },
    {
      "cell_type": "code",
      "metadata": {
        "id": "zthxPoViGW6H",
        "colab_type": "code",
        "colab": {
          "base_uri": "https://localhost:8080/",
          "height": 286
        },
        "outputId": "b2aa836e-f3ef-43cf-ccc5-d48be681e90c"
      },
      "source": [
        "rankings_results['rank_change'].value_counts().sort_index().plot.line()"
      ],
      "execution_count": 210,
      "outputs": [
        {
          "output_type": "execute_result",
          "data": {
            "text/plain": [
              "<matplotlib.axes._subplots.AxesSubplot at 0x7fc34ee8f400>"
            ]
          },
          "metadata": {
            "tags": []
          },
          "execution_count": 210
        },
        {
          "output_type": "display_data",
          "data": {
            "image/png": "[encoded data removed]",
            "text/plain": [
              "<Figure size 432x288 with 1 Axes>"
            ]
          },
          "metadata": {
            "tags": []
          }
        }
      ]
    },
    {
      "cell_type": "code",
      "metadata": {
        "id": "eEp4VExTHTvF",
        "colab_type": "code",
        "colab": {
          "base_uri": "https://localhost:8080/",
          "height": 286
        },
        "outputId": "0828d58a-d501-4721-e899-973f6497ec34"
      },
      "source": [
        "rankings_results['previous_points'].value_counts().sort_index().plot.line()"
      ],
      "execution_count": 211,
      "outputs": [
        {
          "output_type": "execute_result",
          "data": {
            "text/plain": [
              "<matplotlib.axes._subplots.AxesSubplot at 0x7fc34ef87f98>"
            ]
          },
          "metadata": {
            "tags": []
          },
          "execution_count": 211
        },
        {
          "output_type": "display_data",
          "data": {
            "image/png": "[encoded data removed]",
            "text/plain": [
              "<Figure size 432x288 with 1 Axes>"
            ]
          },
          "metadata": {
            "tags": []
          }
        }
      ]
    },
    {
      "cell_type": "code",
      "metadata": {
        "id": "ZLmKyU9DZNZI",
        "colab_type": "code",
        "colab": {
          "base_uri": "https://localhost:8080/",
          "height": 396
        },
        "outputId": "562f9ad2-5cc7-408e-c4d6-d436713c63f5"
      },
      "source": [
        "rankings_results['match_outcome'] = rankings_results['home_score'] - rankings_results['away_score']\n",
        "rankings_results.head(6)"
      ],
      "execution_count": 212,
      "outputs": [
        {
          "output_type": "execute_result",
          "data": {
            "text/html": [
              "<div>\n",
              "<style scoped>\n",
              "    .dataframe tbody tr th:only-of-type {\n",
              "        vertical-align: middle;\n",
              "    }\n",
              "\n",
              "    .dataframe tbody tr th {\n",
              "        vertical-align: top;\n",
              "    }\n",
              "\n",
              "    .dataframe thead th {\n",
              "        text-align: right;\n",
              "    }\n",
              "</style>\n",
              "<table border=\"1\" class=\"dataframe\">\n",
              "  <thead>\n",
              "    <tr style=\"text-align: right;\">\n",
              "      <th></th>\n",
              "      <th>rank</th>\n",
              "      <th>country</th>\n",
              "      <th>previous_points</th>\n",
              "      <th>rank_change</th>\n",
              "      <th>last_year_avg</th>\n",
              "      <th>last_year_avg_weighted</th>\n",
              "      <th>confederation</th>\n",
              "      <th>date</th>\n",
              "      <th>home_team</th>\n",
              "      <th>away_team</th>\n",
              "      <th>home_score</th>\n",
              "      <th>away_score</th>\n",
              "      <th>tournament</th>\n",
              "      <th>neutral</th>\n",
              "      <th>match_outcome</th>\n",
              "    </tr>\n",
              "  </thead>\n",
              "  <tbody>\n",
              "    <tr>\n",
              "      <th>0</th>\n",
              "      <td>8</td>\n",
              "      <td>Brazil</td>\n",
              "      <td>55</td>\n",
              "      <td>-5</td>\n",
              "      <td>0.0</td>\n",
              "      <td>0.0</td>\n",
              "      <td>CONMEBOL</td>\n",
              "      <td>1993-08-08</td>\n",
              "      <td>Brazil</td>\n",
              "      <td>Mexico</td>\n",
              "      <td>1</td>\n",
              "      <td>1</td>\n",
              "      <td>Friendly</td>\n",
              "      <td>False</td>\n",
              "      <td>0</td>\n",
              "    </tr>\n",
              "    <tr>\n",
              "      <th>1</th>\n",
              "      <td>35</td>\n",
              "      <td>Ecuador</td>\n",
              "      <td>23</td>\n",
              "      <td>30</td>\n",
              "      <td>0.0</td>\n",
              "      <td>0.0</td>\n",
              "      <td>CONMEBOL</td>\n",
              "      <td>1993-08-08</td>\n",
              "      <td>Ecuador</td>\n",
              "      <td>Venezuela</td>\n",
              "      <td>5</td>\n",
              "      <td>0</td>\n",
              "      <td>FIFA World Cup qualification</td>\n",
              "      <td>False</td>\n",
              "      <td>5</td>\n",
              "    </tr>\n",
              "    <tr>\n",
              "      <th>2</th>\n",
              "      <td>50</td>\n",
              "      <td>Zimbabwe</td>\n",
              "      <td>27</td>\n",
              "      <td>4</td>\n",
              "      <td>0.0</td>\n",
              "      <td>0.0</td>\n",
              "      <td>CAF</td>\n",
              "      <td>1993-08-08</td>\n",
              "      <td>Zimbabwe</td>\n",
              "      <td>Eswatini</td>\n",
              "      <td>2</td>\n",
              "      <td>0</td>\n",
              "      <td>Friendly</td>\n",
              "      <td>False</td>\n",
              "      <td>2</td>\n",
              "    </tr>\n",
              "    <tr>\n",
              "      <th>3</th>\n",
              "      <td>59</td>\n",
              "      <td>Bolivia</td>\n",
              "      <td>13</td>\n",
              "      <td>28</td>\n",
              "      <td>0.0</td>\n",
              "      <td>0.0</td>\n",
              "      <td>CONMEBOL</td>\n",
              "      <td>1993-08-08</td>\n",
              "      <td>Bolivia</td>\n",
              "      <td>Uruguay</td>\n",
              "      <td>3</td>\n",
              "      <td>1</td>\n",
              "      <td>FIFA World Cup qualification</td>\n",
              "      <td>False</td>\n",
              "      <td>2</td>\n",
              "    </tr>\n",
              "    <tr>\n",
              "      <th>4</th>\n",
              "      <td>65</td>\n",
              "      <td>Guinea</td>\n",
              "      <td>23</td>\n",
              "      <td>-2</td>\n",
              "      <td>0.0</td>\n",
              "      <td>0.0</td>\n",
              "      <td>CAF</td>\n",
              "      <td>1993-08-08</td>\n",
              "      <td>Guinea</td>\n",
              "      <td>Sierra Leone</td>\n",
              "      <td>1</td>\n",
              "      <td>0</td>\n",
              "      <td>Friendly</td>\n",
              "      <td>False</td>\n",
              "      <td>1</td>\n",
              "    </tr>\n",
              "    <tr>\n",
              "      <th>5</th>\n",
              "      <td>67</td>\n",
              "      <td>Paraguay</td>\n",
              "      <td>22</td>\n",
              "      <td>1</td>\n",
              "      <td>0.0</td>\n",
              "      <td>0.0</td>\n",
              "      <td>CONMEBOL</td>\n",
              "      <td>1993-08-08</td>\n",
              "      <td>Paraguay</td>\n",
              "      <td>Argentina</td>\n",
              "      <td>1</td>\n",
              "      <td>3</td>\n",
              "      <td>FIFA World Cup qualification</td>\n",
              "      <td>False</td>\n",
              "      <td>-2</td>\n",
              "    </tr>\n",
              "  </tbody>\n",
              "</table>\n",
              "</div>"
            ],
            "text/plain": [
              "   rank   country  ...  neutral  match_outcome\n",
              "0     8    Brazil  ...    False              0\n",
              "1    35   Ecuador  ...    False              5\n",
              "2    50  Zimbabwe  ...    False              2\n",
              "3    59   Bolivia  ...    False              2\n",
              "4    65    Guinea  ...    False              1\n",
              "5    67  Paraguay  ...    False             -2\n",
              "\n",
              "[6 rows x 15 columns]"
            ]
          },
          "metadata": {
            "tags": []
          },
          "execution_count": 212
        }
      ]
    },
    {
      "cell_type": "code",
      "metadata": {
        "id": "aX20-c1IeHia",
        "colab_type": "code",
        "colab": {}
      },
      "source": [
        "def convert(goals):\n",
        "  if goals > 0:\n",
        "\n",
        "    return 'Win' # \n",
        "  \n",
        "  elif goals < 0:\n",
        "    return 'Lose' # \n",
        "  else:\n",
        "    return 'Draw' # \n",
        "\n",
        "rankings_results['match_outcome'] = rankings_results['match_outcome'].apply(lambda x: convert(x))"
      ],
      "execution_count": 0,
      "outputs": []
    },
    {
      "cell_type": "code",
      "metadata": {
        "id": "2lib5rumfpte",
        "colab_type": "code",
        "colab": {
          "base_uri": "https://localhost:8080/",
          "height": 396
        },
        "outputId": "7766423f-3704-4851-cf25-4b56389ed6a7"
      },
      "source": [
        "rankings_results.head(6)"
      ],
      "execution_count": 214,
      "outputs": [
        {
          "output_type": "execute_result",
          "data": {
            "text/html": [
              "<div>\n",
              "<style scoped>\n",
              "    .dataframe tbody tr th:only-of-type {\n",
              "        vertical-align: middle;\n",
              "    }\n",
              "\n",
              "    .dataframe tbody tr th {\n",
              "        vertical-align: top;\n",
              "    }\n",
              "\n",
              "    .dataframe thead th {\n",
              "        text-align: right;\n",
              "    }\n",
              "</style>\n",
              "<table border=\"1\" class=\"dataframe\">\n",
              "  <thead>\n",
              "    <tr style=\"text-align: right;\">\n",
              "      <th></th>\n",
              "      <th>rank</th>\n",
              "      <th>country</th>\n",
              "      <th>previous_points</th>\n",
              "      <th>rank_change</th>\n",
              "      <th>last_year_avg</th>\n",
              "      <th>last_year_avg_weighted</th>\n",
              "      <th>confederation</th>\n",
              "      <th>date</th>\n",
              "      <th>home_team</th>\n",
              "      <th>away_team</th>\n",
              "      <th>home_score</th>\n",
              "      <th>away_score</th>\n",
              "      <th>tournament</th>\n",
              "      <th>neutral</th>\n",
              "      <th>match_outcome</th>\n",
              "    </tr>\n",
              "  </thead>\n",
              "  <tbody>\n",
              "    <tr>\n",
              "      <th>0</th>\n",
              "      <td>8</td>\n",
              "      <td>Brazil</td>\n",
              "      <td>55</td>\n",
              "      <td>-5</td>\n",
              "      <td>0.0</td>\n",
              "      <td>0.0</td>\n",
              "      <td>CONMEBOL</td>\n",
              "      <td>1993-08-08</td>\n",
              "      <td>Brazil</td>\n",
              "      <td>Mexico</td>\n",
              "      <td>1</td>\n",
              "      <td>1</td>\n",
              "      <td>Friendly</td>\n",
              "      <td>False</td>\n",
              "      <td>Draw</td>\n",
              "    </tr>\n",
              "    <tr>\n",
              "      <th>1</th>\n",
              "      <td>35</td>\n",
              "      <td>Ecuador</td>\n",
              "      <td>23</td>\n",
              "      <td>30</td>\n",
              "      <td>0.0</td>\n",
              "      <td>0.0</td>\n",
              "      <td>CONMEBOL</td>\n",
              "      <td>1993-08-08</td>\n",
              "      <td>Ecuador</td>\n",
              "      <td>Venezuela</td>\n",
              "      <td>5</td>\n",
              "      <td>0</td>\n",
              "      <td>FIFA World Cup qualification</td>\n",
              "      <td>False</td>\n",
              "      <td>Win</td>\n",
              "    </tr>\n",
              "    <tr>\n",
              "      <th>2</th>\n",
              "      <td>50</td>\n",
              "      <td>Zimbabwe</td>\n",
              "      <td>27</td>\n",
              "      <td>4</td>\n",
              "      <td>0.0</td>\n",
              "      <td>0.0</td>\n",
              "      <td>CAF</td>\n",
              "      <td>1993-08-08</td>\n",
              "      <td>Zimbabwe</td>\n",
              "      <td>Eswatini</td>\n",
              "      <td>2</td>\n",
              "      <td>0</td>\n",
              "      <td>Friendly</td>\n",
              "      <td>False</td>\n",
              "      <td>Win</td>\n",
              "    </tr>\n",
              "    <tr>\n",
              "      <th>3</th>\n",
              "      <td>59</td>\n",
              "      <td>Bolivia</td>\n",
              "      <td>13</td>\n",
              "      <td>28</td>\n",
              "      <td>0.0</td>\n",
              "      <td>0.0</td>\n",
              "      <td>CONMEBOL</td>\n",
              "      <td>1993-08-08</td>\n",
              "      <td>Bolivia</td>\n",
              "      <td>Uruguay</td>\n",
              "      <td>3</td>\n",
              "      <td>1</td>\n",
              "      <td>FIFA World Cup qualification</td>\n",
              "      <td>False</td>\n",
              "      <td>Win</td>\n",
              "    </tr>\n",
              "    <tr>\n",
              "      <th>4</th>\n",
              "      <td>65</td>\n",
              "      <td>Guinea</td>\n",
              "      <td>23</td>\n",
              "      <td>-2</td>\n",
              "      <td>0.0</td>\n",
              "      <td>0.0</td>\n",
              "      <td>CAF</td>\n",
              "      <td>1993-08-08</td>\n",
              "      <td>Guinea</td>\n",
              "      <td>Sierra Leone</td>\n",
              "      <td>1</td>\n",
              "      <td>0</td>\n",
              "      <td>Friendly</td>\n",
              "      <td>False</td>\n",
              "      <td>Win</td>\n",
              "    </tr>\n",
              "    <tr>\n",
              "      <th>5</th>\n",
              "      <td>67</td>\n",
              "      <td>Paraguay</td>\n",
              "      <td>22</td>\n",
              "      <td>1</td>\n",
              "      <td>0.0</td>\n",
              "      <td>0.0</td>\n",
              "      <td>CONMEBOL</td>\n",
              "      <td>1993-08-08</td>\n",
              "      <td>Paraguay</td>\n",
              "      <td>Argentina</td>\n",
              "      <td>1</td>\n",
              "      <td>3</td>\n",
              "      <td>FIFA World Cup qualification</td>\n",
              "      <td>False</td>\n",
              "      <td>Lose</td>\n",
              "    </tr>\n",
              "  </tbody>\n",
              "</table>\n",
              "</div>"
            ],
            "text/plain": [
              "   rank   country  ...  neutral  match_outcome\n",
              "0     8    Brazil  ...    False           Draw\n",
              "1    35   Ecuador  ...    False            Win\n",
              "2    50  Zimbabwe  ...    False            Win\n",
              "3    59   Bolivia  ...    False            Win\n",
              "4    65    Guinea  ...    False            Win\n",
              "5    67  Paraguay  ...    False           Lose\n",
              "\n",
              "[6 rows x 15 columns]"
            ]
          },
          "metadata": {
            "tags": []
          },
          "execution_count": 214
        }
      ]
    },
    {
      "cell_type": "markdown",
      "metadata": {
        "id": "aFGv0QkHMaED",
        "colab_type": "text"
      },
      "source": [
        "#POLYNOMIAL REGRESSION."
      ]
    },
    {
      "cell_type": "code",
      "metadata": {
        "id": "AHTDjm0OrIx-",
        "colab_type": "code",
        "colab": {}
      },
      "source": [
        "\n",
        "X_home =rankings_results[['rank', 'home_team', 'away_team', 'away_score','tournament']]\n",
        "y_home =rankings_results['home_score']"
      ],
      "execution_count": 0,
      "outputs": []
    },
    {
      "cell_type": "code",
      "metadata": {
        "id": "YkMrtj5lHHvf",
        "colab_type": "code",
        "colab": {}
      },
      "source": [
        "x_home_train,x_home_test,y_home_train,y_home_test =train_test_split(X_home,y_home,test_size=0.2,random_state=0)"
      ],
      "execution_count": 0,
      "outputs": []
    },
    {
      "cell_type": "code",
      "metadata": {
        "id": "A5Z6_ZXYkJA6",
        "colab_type": "code",
        "colab": {}
      },
      "source": [
        "# Using polynomial regresion to fit and predict the model at degree 2\n",
        "pf =PolynomialFeatures(degree=2)\n",
        "x_train_poly = pf.fit_transform(x_home_train)\n",
        "x_test_poly = pf.fit_transform(x_home_test)\n",
        "\n",
        "lr = LinearRegression()\n",
        "lr.fit(x_train_poly,y_train_poly)\n",
        "\n",
        "y_home_p_pred = lr.predict(x_test_poly)\n",
        "\n",
        "#metrics of success\n",
        "print(\"RMSE : \",np.sqrt(mean_squared_error(y_home_test,y_home_p_pred)))\n",
        "print(\"r2_score is : \",r2_score(y_home_test,y_home_p_pred))\n",
        "comp = pd.DataFrame({\"Actual\":y_home_test,\"Predicted\":y_home_p_pred}).head(25)\n",
        "print(comp.describe())\n"
      ],
      "execution_count": 0,
      "outputs": []
    },
    {
      "cell_type": "code",
      "metadata": {
        "id": "4_Dk7NdCSQgO",
        "colab_type": "code",
        "colab": {
          "base_uri": "https://localhost:8080/",
          "height": 34
        },
        "outputId": "52947d54-487a-4ec1-a027-2f724de63307"
      },
      "source": [
        "from sklearn.preprocessing import PolynomialFeatures\n",
        "poly_features = PolynomialFeatures(degree=2, include_bias=False)\n",
        "X_poly = poly_features.fit_transform(X)\n",
        "X[0]\n",
        "#array([-0.75275929])\n",
        "X_poly[0]\n",
        "#array([-0.75275929, 0.56664654])"
      ],
      "execution_count": 130,
      "outputs": [
        {
          "output_type": "execute_result",
          "data": {
            "text/plain": [
              "array([2.20000e+01, 4.84000e+02, 1.06480e+04, 2.34256e+05])"
            ]
          },
          "metadata": {
            "tags": []
          },
          "execution_count": 130
        }
      ]
    },
    {
      "cell_type": "markdown",
      "metadata": {
        "id": "Pfr8sZV8Ml0Z",
        "colab_type": "text"
      },
      "source": [
        "#RANDOM FOREST."
      ]
    },
    {
      "cell_type": "code",
      "metadata": {
        "id": "qaRXfJWqwj5U",
        "colab_type": "code",
        "colab": {
          "base_uri": "https://localhost:8080/",
          "height": 294
        },
        "outputId": "7ad0f7bc-f95d-4f35-8f0c-516bcbe3e50f"
      },
      "source": [
        "# One-hot encode categorical features\n",
        "features = pd.get_dummies(rankings_results)\n",
        "features.head(5)"
      ],
      "execution_count": 248,
      "outputs": [
        {
          "output_type": "execute_result",
          "data": {
            "text/html": [
              "<div>\n",
              "<style scoped>\n",
              "    .dataframe tbody tr th:only-of-type {\n",
              "        vertical-align: middle;\n",
              "    }\n",
              "\n",
              "    .dataframe tbody tr th {\n",
              "        vertical-align: top;\n",
              "    }\n",
              "\n",
              "    .dataframe thead th {\n",
              "        text-align: right;\n",
              "    }\n",
              "</style>\n",
              "<table border=\"1\" class=\"dataframe\">\n",
              "  <thead>\n",
              "    <tr style=\"text-align: right;\">\n",
              "      <th></th>\n",
              "      <th>rank</th>\n",
              "      <th>previous_points</th>\n",
              "      <th>rank_change</th>\n",
              "      <th>last_year_avg</th>\n",
              "      <th>last_year_avg_weighted</th>\n",
              "      <th>home_score</th>\n",
              "      <th>away_score</th>\n",
              "      <th>neutral</th>\n",
              "      <th>country_Albania</th>\n",
              "      <th>country_Algeria</th>\n",
              "      <th>country_Andorra</th>\n",
              "      <th>country_Angola</th>\n",
              "      <th>country_Antigua and Barbuda</th>\n",
              "      <th>country_Argentina</th>\n",
              "      <th>country_Armenia</th>\n",
              "      <th>country_Australia</th>\n",
              "      <th>country_Austria</th>\n",
              "      <th>country_Azerbaijan</th>\n",
              "      <th>country_Bahrain</th>\n",
              "      <th>country_Bangladesh</th>\n",
              "      <th>country_Barbados</th>\n",
              "      <th>country_Belarus</th>\n",
              "      <th>country_Belgium</th>\n",
              "      <th>country_Belize</th>\n",
              "      <th>country_Benin</th>\n",
              "      <th>country_Bermuda</th>\n",
              "      <th>country_Bhutan</th>\n",
              "      <th>country_Bolivia</th>\n",
              "      <th>country_Bosnia and Herzegovina</th>\n",
              "      <th>country_Botswana</th>\n",
              "      <th>country_Brazil</th>\n",
              "      <th>country_Bulgaria</th>\n",
              "      <th>country_Burkina Faso</th>\n",
              "      <th>country_Burundi</th>\n",
              "      <th>country_Cambodia</th>\n",
              "      <th>country_Canada</th>\n",
              "      <th>country_Cayman Islands</th>\n",
              "      <th>country_Chad</th>\n",
              "      <th>country_Chile</th>\n",
              "      <th>country_China PR</th>\n",
              "      <th>...</th>\n",
              "      <th>away_team_Zimbabwe</th>\n",
              "      <th>tournament_AFC Asian Cup</th>\n",
              "      <th>tournament_AFC Asian Cup qualification</th>\n",
              "      <th>tournament_AFC Challenge Cup qualification</th>\n",
              "      <th>tournament_AFF Championship</th>\n",
              "      <th>tournament_African Cup of Nations</th>\n",
              "      <th>tournament_African Cup of Nations qualification</th>\n",
              "      <th>tournament_African Nations Championship</th>\n",
              "      <th>tournament_CECAFA Cup</th>\n",
              "      <th>tournament_CFU Caribbean Cup</th>\n",
              "      <th>tournament_CFU Caribbean Cup qualification</th>\n",
              "      <th>tournament_CONIFA World Football Cup</th>\n",
              "      <th>tournament_COSAFA Cup</th>\n",
              "      <th>tournament_Confederations Cup</th>\n",
              "      <th>tournament_Copa América</th>\n",
              "      <th>tournament_Copa del Pacífico</th>\n",
              "      <th>tournament_Cyprus International Tournament</th>\n",
              "      <th>tournament_EAFF Championship</th>\n",
              "      <th>tournament_FIFA World Cup qualification</th>\n",
              "      <th>tournament_Friendly</th>\n",
              "      <th>tournament_Gold Cup qualification</th>\n",
              "      <th>tournament_Gulf Cup</th>\n",
              "      <th>tournament_Intercontinental Cup</th>\n",
              "      <th>tournament_King's Cup</th>\n",
              "      <th>tournament_Malta International Tournament</th>\n",
              "      <th>tournament_Merdeka Tournament</th>\n",
              "      <th>tournament_Millennium Cup</th>\n",
              "      <th>tournament_Nehru Cup</th>\n",
              "      <th>tournament_Oceania Nations Cup</th>\n",
              "      <th>tournament_Prime Minister's Cup</th>\n",
              "      <th>tournament_SAFF Cup</th>\n",
              "      <th>tournament_UAFA Cup</th>\n",
              "      <th>tournament_UEFA Euro qualification</th>\n",
              "      <th>tournament_UNCAF Cup</th>\n",
              "      <th>tournament_United Arab Emirates Friendship Tournament</th>\n",
              "      <th>tournament_Viva World Cup</th>\n",
              "      <th>tournament_Windward Islands Tournament</th>\n",
              "      <th>match_outcome_Draw</th>\n",
              "      <th>match_outcome_Lose</th>\n",
              "      <th>match_outcome_Win</th>\n",
              "    </tr>\n",
              "  </thead>\n",
              "  <tbody>\n",
              "    <tr>\n",
              "      <th>0</th>\n",
              "      <td>8</td>\n",
              "      <td>55</td>\n",
              "      <td>-5</td>\n",
              "      <td>0.0</td>\n",
              "      <td>0.0</td>\n",
              "      <td>1</td>\n",
              "      <td>1</td>\n",
              "      <td>False</td>\n",
              "      <td>0</td>\n",
              "      <td>0</td>\n",
              "      <td>0</td>\n",
              "      <td>0</td>\n",
              "      <td>0</td>\n",
              "      <td>0</td>\n",
              "      <td>0</td>\n",
              "      <td>0</td>\n",
              "      <td>0</td>\n",
              "      <td>0</td>\n",
              "      <td>0</td>\n",
              "      <td>0</td>\n",
              "      <td>0</td>\n",
              "      <td>0</td>\n",
              "      <td>0</td>\n",
              "      <td>0</td>\n",
              "      <td>0</td>\n",
              "      <td>0</td>\n",
              "      <td>0</td>\n",
              "      <td>0</td>\n",
              "      <td>0</td>\n",
              "      <td>0</td>\n",
              "      <td>1</td>\n",
              "      <td>0</td>\n",
              "      <td>0</td>\n",
              "      <td>0</td>\n",
              "      <td>0</td>\n",
              "      <td>0</td>\n",
              "      <td>0</td>\n",
              "      <td>0</td>\n",
              "      <td>0</td>\n",
              "      <td>0</td>\n",
              "      <td>...</td>\n",
              "      <td>0</td>\n",
              "      <td>0</td>\n",
              "      <td>0</td>\n",
              "      <td>0</td>\n",
              "      <td>0</td>\n",
              "      <td>0</td>\n",
              "      <td>0</td>\n",
              "      <td>0</td>\n",
              "      <td>0</td>\n",
              "      <td>0</td>\n",
              "      <td>0</td>\n",
              "      <td>0</td>\n",
              "      <td>0</td>\n",
              "      <td>0</td>\n",
              "      <td>0</td>\n",
              "      <td>0</td>\n",
              "      <td>0</td>\n",
              "      <td>0</td>\n",
              "      <td>0</td>\n",
              "      <td>1</td>\n",
              "      <td>0</td>\n",
              "      <td>0</td>\n",
              "      <td>0</td>\n",
              "      <td>0</td>\n",
              "      <td>0</td>\n",
              "      <td>0</td>\n",
              "      <td>0</td>\n",
              "      <td>0</td>\n",
              "      <td>0</td>\n",
              "      <td>0</td>\n",
              "      <td>0</td>\n",
              "      <td>0</td>\n",
              "      <td>0</td>\n",
              "      <td>0</td>\n",
              "      <td>0</td>\n",
              "      <td>0</td>\n",
              "      <td>0</td>\n",
              "      <td>1</td>\n",
              "      <td>0</td>\n",
              "      <td>0</td>\n",
              "    </tr>\n",
              "    <tr>\n",
              "      <th>1</th>\n",
              "      <td>35</td>\n",
              "      <td>23</td>\n",
              "      <td>30</td>\n",
              "      <td>0.0</td>\n",
              "      <td>0.0</td>\n",
              "      <td>5</td>\n",
              "      <td>0</td>\n",
              "      <td>False</td>\n",
              "      <td>0</td>\n",
              "      <td>0</td>\n",
              "      <td>0</td>\n",
              "      <td>0</td>\n",
              "      <td>0</td>\n",
              "      <td>0</td>\n",
              "      <td>0</td>\n",
              "      <td>0</td>\n",
              "      <td>0</td>\n",
              "      <td>0</td>\n",
              "      <td>0</td>\n",
              "      <td>0</td>\n",
              "      <td>0</td>\n",
              "      <td>0</td>\n",
              "      <td>0</td>\n",
              "      <td>0</td>\n",
              "      <td>0</td>\n",
              "      <td>0</td>\n",
              "      <td>0</td>\n",
              "      <td>0</td>\n",
              "      <td>0</td>\n",
              "      <td>0</td>\n",
              "      <td>0</td>\n",
              "      <td>0</td>\n",
              "      <td>0</td>\n",
              "      <td>0</td>\n",
              "      <td>0</td>\n",
              "      <td>0</td>\n",
              "      <td>0</td>\n",
              "      <td>0</td>\n",
              "      <td>0</td>\n",
              "      <td>0</td>\n",
              "      <td>...</td>\n",
              "      <td>0</td>\n",
              "      <td>0</td>\n",
              "      <td>0</td>\n",
              "      <td>0</td>\n",
              "      <td>0</td>\n",
              "      <td>0</td>\n",
              "      <td>0</td>\n",
              "      <td>0</td>\n",
              "      <td>0</td>\n",
              "      <td>0</td>\n",
              "      <td>0</td>\n",
              "      <td>0</td>\n",
              "      <td>0</td>\n",
              "      <td>0</td>\n",
              "      <td>0</td>\n",
              "      <td>0</td>\n",
              "      <td>0</td>\n",
              "      <td>0</td>\n",
              "      <td>1</td>\n",
              "      <td>0</td>\n",
              "      <td>0</td>\n",
              "      <td>0</td>\n",
              "      <td>0</td>\n",
              "      <td>0</td>\n",
              "      <td>0</td>\n",
              "      <td>0</td>\n",
              "      <td>0</td>\n",
              "      <td>0</td>\n",
              "      <td>0</td>\n",
              "      <td>0</td>\n",
              "      <td>0</td>\n",
              "      <td>0</td>\n",
              "      <td>0</td>\n",
              "      <td>0</td>\n",
              "      <td>0</td>\n",
              "      <td>0</td>\n",
              "      <td>0</td>\n",
              "      <td>0</td>\n",
              "      <td>0</td>\n",
              "      <td>1</td>\n",
              "    </tr>\n",
              "    <tr>\n",
              "      <th>2</th>\n",
              "      <td>50</td>\n",
              "      <td>27</td>\n",
              "      <td>4</td>\n",
              "      <td>0.0</td>\n",
              "      <td>0.0</td>\n",
              "      <td>2</td>\n",
              "      <td>0</td>\n",
              "      <td>False</td>\n",
              "      <td>0</td>\n",
              "      <td>0</td>\n",
              "      <td>0</td>\n",
              "      <td>0</td>\n",
              "      <td>0</td>\n",
              "      <td>0</td>\n",
              "      <td>0</td>\n",
              "      <td>0</td>\n",
              "      <td>0</td>\n",
              "      <td>0</td>\n",
              "      <td>0</td>\n",
              "      <td>0</td>\n",
              "      <td>0</td>\n",
              "      <td>0</td>\n",
              "      <td>0</td>\n",
              "      <td>0</td>\n",
              "      <td>0</td>\n",
              "      <td>0</td>\n",
              "      <td>0</td>\n",
              "      <td>0</td>\n",
              "      <td>0</td>\n",
              "      <td>0</td>\n",
              "      <td>0</td>\n",
              "      <td>0</td>\n",
              "      <td>0</td>\n",
              "      <td>0</td>\n",
              "      <td>0</td>\n",
              "      <td>0</td>\n",
              "      <td>0</td>\n",
              "      <td>0</td>\n",
              "      <td>0</td>\n",
              "      <td>0</td>\n",
              "      <td>...</td>\n",
              "      <td>0</td>\n",
              "      <td>0</td>\n",
              "      <td>0</td>\n",
              "      <td>0</td>\n",
              "      <td>0</td>\n",
              "      <td>0</td>\n",
              "      <td>0</td>\n",
              "      <td>0</td>\n",
              "      <td>0</td>\n",
              "      <td>0</td>\n",
              "      <td>0</td>\n",
              "      <td>0</td>\n",
              "      <td>0</td>\n",
              "      <td>0</td>\n",
              "      <td>0</td>\n",
              "      <td>0</td>\n",
              "      <td>0</td>\n",
              "      <td>0</td>\n",
              "      <td>0</td>\n",
              "      <td>1</td>\n",
              "      <td>0</td>\n",
              "      <td>0</td>\n",
              "      <td>0</td>\n",
              "      <td>0</td>\n",
              "      <td>0</td>\n",
              "      <td>0</td>\n",
              "      <td>0</td>\n",
              "      <td>0</td>\n",
              "      <td>0</td>\n",
              "      <td>0</td>\n",
              "      <td>0</td>\n",
              "      <td>0</td>\n",
              "      <td>0</td>\n",
              "      <td>0</td>\n",
              "      <td>0</td>\n",
              "      <td>0</td>\n",
              "      <td>0</td>\n",
              "      <td>0</td>\n",
              "      <td>0</td>\n",
              "      <td>1</td>\n",
              "    </tr>\n",
              "    <tr>\n",
              "      <th>3</th>\n",
              "      <td>59</td>\n",
              "      <td>13</td>\n",
              "      <td>28</td>\n",
              "      <td>0.0</td>\n",
              "      <td>0.0</td>\n",
              "      <td>3</td>\n",
              "      <td>1</td>\n",
              "      <td>False</td>\n",
              "      <td>0</td>\n",
              "      <td>0</td>\n",
              "      <td>0</td>\n",
              "      <td>0</td>\n",
              "      <td>0</td>\n",
              "      <td>0</td>\n",
              "      <td>0</td>\n",
              "      <td>0</td>\n",
              "      <td>0</td>\n",
              "      <td>0</td>\n",
              "      <td>0</td>\n",
              "      <td>0</td>\n",
              "      <td>0</td>\n",
              "      <td>0</td>\n",
              "      <td>0</td>\n",
              "      <td>0</td>\n",
              "      <td>0</td>\n",
              "      <td>0</td>\n",
              "      <td>0</td>\n",
              "      <td>1</td>\n",
              "      <td>0</td>\n",
              "      <td>0</td>\n",
              "      <td>0</td>\n",
              "      <td>0</td>\n",
              "      <td>0</td>\n",
              "      <td>0</td>\n",
              "      <td>0</td>\n",
              "      <td>0</td>\n",
              "      <td>0</td>\n",
              "      <td>0</td>\n",
              "      <td>0</td>\n",
              "      <td>0</td>\n",
              "      <td>...</td>\n",
              "      <td>0</td>\n",
              "      <td>0</td>\n",
              "      <td>0</td>\n",
              "      <td>0</td>\n",
              "      <td>0</td>\n",
              "      <td>0</td>\n",
              "      <td>0</td>\n",
              "      <td>0</td>\n",
              "      <td>0</td>\n",
              "      <td>0</td>\n",
              "      <td>0</td>\n",
              "      <td>0</td>\n",
              "      <td>0</td>\n",
              "      <td>0</td>\n",
              "      <td>0</td>\n",
              "      <td>0</td>\n",
              "      <td>0</td>\n",
              "      <td>0</td>\n",
              "      <td>1</td>\n",
              "      <td>0</td>\n",
              "      <td>0</td>\n",
              "      <td>0</td>\n",
              "      <td>0</td>\n",
              "      <td>0</td>\n",
              "      <td>0</td>\n",
              "      <td>0</td>\n",
              "      <td>0</td>\n",
              "      <td>0</td>\n",
              "      <td>0</td>\n",
              "      <td>0</td>\n",
              "      <td>0</td>\n",
              "      <td>0</td>\n",
              "      <td>0</td>\n",
              "      <td>0</td>\n",
              "      <td>0</td>\n",
              "      <td>0</td>\n",
              "      <td>0</td>\n",
              "      <td>0</td>\n",
              "      <td>0</td>\n",
              "      <td>1</td>\n",
              "    </tr>\n",
              "    <tr>\n",
              "      <th>4</th>\n",
              "      <td>65</td>\n",
              "      <td>23</td>\n",
              "      <td>-2</td>\n",
              "      <td>0.0</td>\n",
              "      <td>0.0</td>\n",
              "      <td>1</td>\n",
              "      <td>0</td>\n",
              "      <td>False</td>\n",
              "      <td>0</td>\n",
              "      <td>0</td>\n",
              "      <td>0</td>\n",
              "      <td>0</td>\n",
              "      <td>0</td>\n",
              "      <td>0</td>\n",
              "      <td>0</td>\n",
              "      <td>0</td>\n",
              "      <td>0</td>\n",
              "      <td>0</td>\n",
              "      <td>0</td>\n",
              "      <td>0</td>\n",
              "      <td>0</td>\n",
              "      <td>0</td>\n",
              "      <td>0</td>\n",
              "      <td>0</td>\n",
              "      <td>0</td>\n",
              "      <td>0</td>\n",
              "      <td>0</td>\n",
              "      <td>0</td>\n",
              "      <td>0</td>\n",
              "      <td>0</td>\n",
              "      <td>0</td>\n",
              "      <td>0</td>\n",
              "      <td>0</td>\n",
              "      <td>0</td>\n",
              "      <td>0</td>\n",
              "      <td>0</td>\n",
              "      <td>0</td>\n",
              "      <td>0</td>\n",
              "      <td>0</td>\n",
              "      <td>0</td>\n",
              "      <td>...</td>\n",
              "      <td>0</td>\n",
              "      <td>0</td>\n",
              "      <td>0</td>\n",
              "      <td>0</td>\n",
              "      <td>0</td>\n",
              "      <td>0</td>\n",
              "      <td>0</td>\n",
              "      <td>0</td>\n",
              "      <td>0</td>\n",
              "      <td>0</td>\n",
              "      <td>0</td>\n",
              "      <td>0</td>\n",
              "      <td>0</td>\n",
              "      <td>0</td>\n",
              "      <td>0</td>\n",
              "      <td>0</td>\n",
              "      <td>0</td>\n",
              "      <td>0</td>\n",
              "      <td>0</td>\n",
              "      <td>1</td>\n",
              "      <td>0</td>\n",
              "      <td>0</td>\n",
              "      <td>0</td>\n",
              "      <td>0</td>\n",
              "      <td>0</td>\n",
              "      <td>0</td>\n",
              "      <td>0</td>\n",
              "      <td>0</td>\n",
              "      <td>0</td>\n",
              "      <td>0</td>\n",
              "      <td>0</td>\n",
              "      <td>0</td>\n",
              "      <td>0</td>\n",
              "      <td>0</td>\n",
              "      <td>0</td>\n",
              "      <td>0</td>\n",
              "      <td>0</td>\n",
              "      <td>0</td>\n",
              "      <td>0</td>\n",
              "      <td>1</td>\n",
              "    </tr>\n",
              "  </tbody>\n",
              "</table>\n",
              "<p>5 rows × 757 columns</p>\n",
              "</div>"
            ],
            "text/plain": [
              "   rank  previous_points  ...  match_outcome_Lose  match_outcome_Win\n",
              "0     8               55  ...                   0                  0\n",
              "1    35               23  ...                   0                  1\n",
              "2    50               27  ...                   0                  1\n",
              "3    59               13  ...                   0                  1\n",
              "4    65               23  ...                   0                  1\n",
              "\n",
              "[5 rows x 757 columns]"
            ]
          },
          "metadata": {
            "tags": []
          },
          "execution_count": 248
        }
      ]
    },
    {
      "cell_type": "code",
      "metadata": {
        "id": "gEtoMiL-wyYz",
        "colab_type": "code",
        "colab": {
          "base_uri": "https://localhost:8080/",
          "height": 34
        },
        "outputId": "001e659f-2162-4320-c86e-2dca5479dcbc"
      },
      "source": [
        "print('Shape of features after one-hot encoding:', features.shape)"
      ],
      "execution_count": 249,
      "outputs": [
        {
          "output_type": "stream",
          "text": [
            "Shape of features after one-hot encoding: (950, 757)\n"
          ],
          "name": "stdout"
        }
      ]
    },
    {
      "cell_type": "markdown",
      "metadata": {
        "id": "C2wVjIOpR2Bt",
        "colab_type": "text"
      },
      "source": [
        "#Features and Labels.\n"
      ]
    },
    {
      "cell_type": "code",
      "metadata": {
        "id": "Xn12IBZ-RyTZ",
        "colab_type": "code",
        "colab": {}
      },
      "source": [
        "# Use numpy to convert to arrays\n",
        "import numpy as np\n",
        "\n",
        "# Labels are the values we want to predict\n",
        "labels = np.array(features['home_score'])\n",
        "\n",
        "# Remove the labels from the features\n",
        "# axis 1 refers to the columns\n",
        "features= features.drop('home_score', axis = 1)\n",
        "\n",
        "# Saving feature names for later use\n",
        "feature_list = list(features.columns)\n",
        "\n",
        "# Convert to numpy array\n",
        "features = np.array(features)"
      ],
      "execution_count": 0,
      "outputs": []
    },
    {
      "cell_type": "code",
      "metadata": {
        "id": "41HhBZzsxxYL",
        "colab_type": "code",
        "colab": {}
      },
      "source": [
        "# Using Skicit-learn to split data into training and testing sets\n",
        "from sklearn.model_selection import train_test_split\n",
        "\n",
        "# Split the data into training and testing sets\n",
        "train_features, test_features, train_labels, test_labels = train_test_split(features, labels, test_size = 0.25,\n",
        "                                                                           random_state = 42)"
      ],
      "execution_count": 0,
      "outputs": []
    },
    {
      "cell_type": "code",
      "metadata": {
        "id": "6i6fiKoXyx3X",
        "colab_type": "code",
        "colab": {
          "base_uri": "https://localhost:8080/",
          "height": 84
        },
        "outputId": "433cc475-1ca5-4f36-98b9-bf5653281586"
      },
      "source": [
        "print('Training Features Shape:', train_features.shape)\n",
        "print('Training Labels Shape:', train_labels.shape)\n",
        "print('Testing Features Shape:', test_features.shape)\n",
        "print('Testing Labels Shape:', test_labels.shape)"
      ],
      "execution_count": 252,
      "outputs": [
        {
          "output_type": "stream",
          "text": [
            "Training Features Shape: (712, 756)\n",
            "Training Labels Shape: (712,)\n",
            "Testing Features Shape: (238, 756)\n",
            "Testing Labels Shape: (238,)\n"
          ],
          "name": "stdout"
        }
      ]
    },
    {
      "cell_type": "code",
      "metadata": {
        "id": "SCmI2DwSy1-7",
        "colab_type": "code",
        "colab": {
          "base_uri": "https://localhost:8080/",
          "height": 34
        },
        "outputId": "1f244ed3-abba-4f98-b11b-71e74437facb"
      },
      "source": [
        "# The baseline predictions are previous points\n",
        "baseline_preds = test_features[:, feature_list.index('previous_points')]\n",
        "\n",
        "# Baseline errors, and display average baseline error\n",
        "baseline_errors = abs(baseline_preds - test_labels)\n",
        "print('baseline error: ', round(np.mean(baseline_errors), 2), 'previous_points')"
      ],
      "execution_count": 253,
      "outputs": [
        {
          "output_type": "stream",
          "text": [
            "baseline error:  460.21 previous_points\n"
          ],
          "name": "stdout"
        }
      ]
    },
    {
      "cell_type": "markdown",
      "metadata": {
        "id": "yVaVXRixTpTV",
        "colab_type": "text"
      },
      "source": [
        "#Training the forest."
      ]
    },
    {
      "cell_type": "code",
      "metadata": {
        "id": "54Fkbp-PTwfG",
        "colab_type": "code",
        "colab": {}
      },
      "source": [
        "# Import the model we are using\n",
        "from sklearn.ensemble import RandomForestRegressor\n",
        "\n",
        "# Instantiate model \n",
        "rf = RandomForestRegressor(n_estimators= 1000, random_state=42)\n",
        "\n",
        "# Train the model on training data\n",
        "rf.fit(train_features, train_labels);"
      ],
      "execution_count": 0,
      "outputs": []
    },
    {
      "cell_type": "markdown",
      "metadata": {
        "id": "S81XGECSUFRl",
        "colab_type": "text"
      },
      "source": [
        "We can create models with different hyperparameters to try and boost performance. The only way to find the best ones are to try a few and evaluate them!"
      ]
    },
    {
      "cell_type": "code",
      "metadata": {
        "id": "Lk0l0k6-UMuT",
        "colab_type": "code",
        "colab": {}
      },
      "source": [
        "rf_new = RandomForestRegressor(n_estimators = 100, criterion = 'mse', max_depth = None, \n",
        "                               min_samples_split = 2, min_samples_leaf = 1)"
      ],
      "execution_count": 0,
      "outputs": []
    },
    {
      "cell_type": "markdown",
      "metadata": {
        "id": "pRn1HYhgUfcX",
        "colab_type": "text"
      },
      "source": [
        "# Making Predictions on Test Data."
      ]
    },
    {
      "cell_type": "code",
      "metadata": {
        "id": "RjXejyG5Utzf",
        "colab_type": "code",
        "colab": {
          "base_uri": "https://localhost:8080/",
          "height": 34
        },
        "outputId": "b3a4c367-d144-4f41-ef04-e6ad66c22b34"
      },
      "source": [
        "# Use the forest's predict method on the test data\n",
        "predictions = rf.predict(test_features)\n",
        "\n",
        "# Calculate the absolute errors\n",
        "errors = abs(predictions - test_labels)\n",
        "\n",
        "# Print out the mean absolute error (mae)\n",
        "print('Mean Absolute Error:', round(np.mean(errors), 2), 'units.')\n"
      ],
      "execution_count": 257,
      "outputs": [
        {
          "output_type": "stream",
          "text": [
            "Mean Absolute Error: 0.63 units.\n"
          ],
          "name": "stdout"
        }
      ]
    },
    {
      "cell_type": "code",
      "metadata": {
        "id": "vCjb0uBaVI0d",
        "colab_type": "code",
        "colab": {
          "base_uri": "https://localhost:8080/",
          "height": 121
        },
        "outputId": "c3dfc7f2-8cca-43fd-d274-060ad341db92"
      },
      "source": [
        "# Calculate mean absolute percentage error (MAPE)\n",
        "mape = 100 * (errors / test_labels)\n",
        "\n",
        "# Calculate and display accuracy\n",
        "accuracy = 100 - np.mean(mape)\n",
        "print('Accuracy:', round(accuracy, 2), '%.')"
      ],
      "execution_count": 258,
      "outputs": [
        {
          "output_type": "stream",
          "text": [
            "Accuracy: nan %.\n"
          ],
          "name": "stdout"
        },
        {
          "output_type": "stream",
          "text": [
            "/usr/local/lib/python3.6/dist-packages/ipykernel_launcher.py:1: RuntimeWarning: divide by zero encountered in true_divide\n",
            "  \"\"\"Entry point for launching an IPython kernel.\n",
            "/usr/local/lib/python3.6/dist-packages/ipykernel_launcher.py:1: RuntimeWarning: invalid value encountered in true_divide\n",
            "  \"\"\"Entry point for launching an IPython kernel.\n"
          ],
          "name": "stderr"
        }
      ]
    },
    {
      "cell_type": "code",
      "metadata": {
        "id": "kE0O4-jPVxZG",
        "colab_type": "code",
        "colab": {
          "base_uri": "https://localhost:8080/",
          "height": 1000
        },
        "outputId": "cfec0f0c-cf09-4d23-b0c4-1a9ddc6fa952"
      },
      "source": [
        "# Get numerical feature importances\n",
        "importances = list(rf.feature_importances_)\n",
        "\n",
        "# List of tuples with variable and importance\n",
        "feature_importances = [(feature, round(importance, 2)) for feature, importance in zip(feature_list, importances)]\n",
        "\n",
        "# Sort the feature importances by most important first\n",
        "feature_importances = sorted(feature_importances, key = lambda x: x[1], reverse = True)\n",
        "\n",
        "# Print out the feature and importances \n",
        "[print('Variable: {:20} Importance: {}'.format(*pair)) for pair in feature_importances];"
      ],
      "execution_count": 259,
      "outputs": [
        {
          "output_type": "stream",
          "text": [
            "Variable: match_outcome_Win    Importance: 0.28\n",
            "Variable: away_team_American Samoa Importance: 0.2\n",
            "Variable: away_score           Importance: 0.06\n",
            "Variable: away_team_Bhutan     Importance: 0.04\n",
            "Variable: rank_change          Importance: 0.03\n",
            "Variable: rank                 Importance: 0.02\n",
            "Variable: previous_points      Importance: 0.02\n",
            "Variable: date_2001-04-11      Importance: 0.02\n",
            "Variable: country_Australia    Importance: 0.01\n",
            "Variable: country_Macau        Importance: 0.01\n",
            "Variable: country_Qatar        Importance: 0.01\n",
            "Variable: date_1999-02-24      Importance: 0.01\n",
            "Variable: date_2004-06-09      Importance: 0.01\n",
            "Variable: date_2008-10-08      Importance: 0.01\n",
            "Variable: home_team_Australia  Importance: 0.01\n",
            "Variable: home_team_Palestine  Importance: 0.01\n",
            "Variable: home_team_Vietnam    Importance: 0.01\n",
            "Variable: away_team_Brunei     Importance: 0.01\n",
            "Variable: away_team_Dominican Republic Importance: 0.01\n",
            "Variable: tournament_FIFA World Cup qualification Importance: 0.01\n",
            "Variable: match_outcome_Draw   Importance: 0.01\n",
            "Variable: match_outcome_Lose   Importance: 0.01\n",
            "Variable: last_year_avg        Importance: 0.0\n",
            "Variable: last_year_avg_weighted Importance: 0.0\n",
            "Variable: neutral              Importance: 0.0\n",
            "Variable: country_Albania      Importance: 0.0\n",
            "Variable: country_Algeria      Importance: 0.0\n",
            "Variable: country_Andorra      Importance: 0.0\n",
            "Variable: country_Angola       Importance: 0.0\n",
            "Variable: country_Antigua and Barbuda Importance: 0.0\n",
            "Variable: country_Argentina    Importance: 0.0\n",
            "Variable: country_Armenia      Importance: 0.0\n",
            "Variable: country_Austria      Importance: 0.0\n",
            "Variable: country_Azerbaijan   Importance: 0.0\n",
            "Variable: country_Bahrain      Importance: 0.0\n",
            "Variable: country_Bangladesh   Importance: 0.0\n",
            "Variable: country_Barbados     Importance: 0.0\n",
            "Variable: country_Belarus      Importance: 0.0\n",
            "Variable: country_Belgium      Importance: 0.0\n",
            "Variable: country_Belize       Importance: 0.0\n",
            "Variable: country_Benin        Importance: 0.0\n",
            "Variable: country_Bermuda      Importance: 0.0\n",
            "Variable: country_Bhutan       Importance: 0.0\n",
            "Variable: country_Bolivia      Importance: 0.0\n",
            "Variable: country_Bosnia and Herzegovina Importance: 0.0\n",
            "Variable: country_Botswana     Importance: 0.0\n",
            "Variable: country_Brazil       Importance: 0.0\n",
            "Variable: country_Bulgaria     Importance: 0.0\n",
            "Variable: country_Burkina Faso Importance: 0.0\n",
            "Variable: country_Burundi      Importance: 0.0\n",
            "Variable: country_Cambodia     Importance: 0.0\n",
            "Variable: country_Canada       Importance: 0.0\n",
            "Variable: country_Cayman Islands Importance: 0.0\n",
            "Variable: country_Chad         Importance: 0.0\n",
            "Variable: country_Chile        Importance: 0.0\n",
            "Variable: country_China PR     Importance: 0.0\n",
            "Variable: country_Colombia     Importance: 0.0\n",
            "Variable: country_Costa Rica   Importance: 0.0\n",
            "Variable: country_Croatia      Importance: 0.0\n",
            "Variable: country_Cyprus       Importance: 0.0\n",
            "Variable: country_Czech Republic Importance: 0.0\n",
            "Variable: country_Denmark      Importance: 0.0\n",
            "Variable: country_Ecuador      Importance: 0.0\n",
            "Variable: country_Egypt        Importance: 0.0\n",
            "Variable: country_El Salvador  Importance: 0.0\n",
            "Variable: country_England      Importance: 0.0\n",
            "Variable: country_Estonia      Importance: 0.0\n",
            "Variable: country_Ethiopia     Importance: 0.0\n",
            "Variable: country_Faroe Islands Importance: 0.0\n",
            "Variable: country_Finland      Importance: 0.0\n",
            "Variable: country_France       Importance: 0.0\n",
            "Variable: country_Gabon        Importance: 0.0\n",
            "Variable: country_Gambia       Importance: 0.0\n",
            "Variable: country_Georgia      Importance: 0.0\n",
            "Variable: country_Germany      Importance: 0.0\n",
            "Variable: country_Ghana        Importance: 0.0\n",
            "Variable: country_Greece       Importance: 0.0\n",
            "Variable: country_Grenada      Importance: 0.0\n",
            "Variable: country_Guam         Importance: 0.0\n",
            "Variable: country_Guatemala    Importance: 0.0\n",
            "Variable: country_Guinea       Importance: 0.0\n",
            "Variable: country_Guyana       Importance: 0.0\n",
            "Variable: country_Haiti        Importance: 0.0\n",
            "Variable: country_Honduras     Importance: 0.0\n",
            "Variable: country_Hong Kong    Importance: 0.0\n",
            "Variable: country_Hungary      Importance: 0.0\n",
            "Variable: country_Iceland      Importance: 0.0\n",
            "Variable: country_India        Importance: 0.0\n",
            "Variable: country_Indonesia    Importance: 0.0\n",
            "Variable: country_Iraq         Importance: 0.0\n",
            "Variable: country_Israel       Importance: 0.0\n",
            "Variable: country_Italy        Importance: 0.0\n",
            "Variable: country_Jamaica      Importance: 0.0\n",
            "Variable: country_Japan        Importance: 0.0\n",
            "Variable: country_Jordan       Importance: 0.0\n",
            "Variable: country_Kazakhstan   Importance: 0.0\n",
            "Variable: country_Kenya        Importance: 0.0\n",
            "Variable: country_Kuwait       Importance: 0.0\n",
            "Variable: country_Laos         Importance: 0.0\n",
            "Variable: country_Latvia       Importance: 0.0\n",
            "Variable: country_Lebanon      Importance: 0.0\n",
            "Variable: country_Lesotho      Importance: 0.0\n",
            "Variable: country_Liberia      Importance: 0.0\n",
            "Variable: country_Libya        Importance: 0.0\n",
            "Variable: country_Liechtenstein Importance: 0.0\n",
            "Variable: country_Lithuania    Importance: 0.0\n",
            "Variable: country_Luxembourg   Importance: 0.0\n",
            "Variable: country_Malawi       Importance: 0.0\n",
            "Variable: country_Malaysia     Importance: 0.0\n",
            "Variable: country_Maldives     Importance: 0.0\n",
            "Variable: country_Malta        Importance: 0.0\n",
            "Variable: country_Mauritania   Importance: 0.0\n",
            "Variable: country_Mauritius    Importance: 0.0\n",
            "Variable: country_Mexico       Importance: 0.0\n",
            "Variable: country_Moldova      Importance: 0.0\n",
            "Variable: country_Mongolia     Importance: 0.0\n",
            "Variable: country_Montenegro   Importance: 0.0\n",
            "Variable: country_Morocco      Importance: 0.0\n",
            "Variable: country_Mozambique   Importance: 0.0\n",
            "Variable: country_Namibia      Importance: 0.0\n",
            "Variable: country_Nepal        Importance: 0.0\n",
            "Variable: country_Netherlands  Importance: 0.0\n",
            "Variable: country_New Zealand  Importance: 0.0\n",
            "Variable: country_Nigeria      Importance: 0.0\n",
            "Variable: country_Northern Ireland Importance: 0.0\n",
            "Variable: country_Norway       Importance: 0.0\n",
            "Variable: country_Oman         Importance: 0.0\n",
            "Variable: country_Pakistan     Importance: 0.0\n",
            "Variable: country_Panama       Importance: 0.0\n",
            "Variable: country_Paraguay     Importance: 0.0\n",
            "Variable: country_Peru         Importance: 0.0\n",
            "Variable: country_Philippines  Importance: 0.0\n",
            "Variable: country_Poland       Importance: 0.0\n",
            "Variable: country_Portugal     Importance: 0.0\n",
            "Variable: country_Republic of Ireland Importance: 0.0\n",
            "Variable: country_Romania      Importance: 0.0\n",
            "Variable: country_Russia       Importance: 0.0\n",
            "Variable: country_Rwanda       Importance: 0.0\n",
            "Variable: country_Samoa        Importance: 0.0\n",
            "Variable: country_San Marino   Importance: 0.0\n",
            "Variable: country_Saudi Arabia Importance: 0.0\n",
            "Variable: country_Scotland     Importance: 0.0\n",
            "Variable: country_Senegal      Importance: 0.0\n",
            "Variable: country_Serbia       Importance: 0.0\n",
            "Variable: country_Seychelles   Importance: 0.0\n",
            "Variable: country_Singapore    Importance: 0.0\n",
            "Variable: country_Slovakia     Importance: 0.0\n",
            "Variable: country_Slovenia     Importance: 0.0\n",
            "Variable: country_Solomon Islands Importance: 0.0\n",
            "Variable: country_South Africa Importance: 0.0\n",
            "Variable: country_Spain        Importance: 0.0\n",
            "Variable: country_Sri Lanka    Importance: 0.0\n",
            "Variable: country_Sudan        Importance: 0.0\n",
            "Variable: country_Suriname     Importance: 0.0\n",
            "Variable: country_Sweden       Importance: 0.0\n",
            "Variable: country_Switzerland  Importance: 0.0\n",
            "Variable: country_Syria        Importance: 0.0\n",
            "Variable: country_Tajikistan   Importance: 0.0\n",
            "Variable: country_Tanzania     Importance: 0.0\n",
            "Variable: country_Thailand     Importance: 0.0\n",
            "Variable: country_Togo         Importance: 0.0\n",
            "Variable: country_Trinidad and Tobago Importance: 0.0\n",
            "Variable: country_Tunisia      Importance: 0.0\n",
            "Variable: country_Turkey       Importance: 0.0\n",
            "Variable: country_Turkmenistan Importance: 0.0\n",
            "Variable: country_Uganda       Importance: 0.0\n",
            "Variable: country_Ukraine      Importance: 0.0\n",
            "Variable: country_United Arab Emirates Importance: 0.0\n",
            "Variable: country_Uruguay      Importance: 0.0\n",
            "Variable: country_Uzbekistan   Importance: 0.0\n",
            "Variable: country_Vanuatu      Importance: 0.0\n",
            "Variable: country_Venezuela    Importance: 0.0\n",
            "Variable: country_Vietnam      Importance: 0.0\n",
            "Variable: country_Wales        Importance: 0.0\n",
            "Variable: country_Yemen        Importance: 0.0\n",
            "Variable: country_Yugoslavia   Importance: 0.0\n",
            "Variable: country_Zambia       Importance: 0.0\n",
            "Variable: country_Zimbabwe     Importance: 0.0\n",
            "Variable: confederation_AFC    Importance: 0.0\n",
            "Variable: confederation_CAF    Importance: 0.0\n",
            "Variable: confederation_CONCACAF Importance: 0.0\n",
            "Variable: confederation_CONMEBOL Importance: 0.0\n",
            "Variable: confederation_OFC    Importance: 0.0\n",
            "Variable: confederation_UEFA   Importance: 0.0\n",
            "Variable: date_1993-08-08      Importance: 0.0\n",
            "Variable: date_1993-09-23      Importance: 0.0\n",
            "Variable: date_1993-10-22      Importance: 0.0\n",
            "Variable: date_1994-03-15      Importance: 0.0\n",
            "Variable: date_1994-04-19      Importance: 0.0\n",
            "Variable: date_1994-05-17      Importance: 0.0\n",
            "Variable: date_1994-10-25      Importance: 0.0\n",
            "Variable: date_1994-11-22      Importance: 0.0\n",
            "Variable: date_1995-04-19      Importance: 0.0\n",
            "Variable: date_1995-07-25      Importance: 0.0\n",
            "Variable: date_1996-01-24      Importance: 0.0\n",
            "Variable: date_1996-02-21      Importance: 0.0\n",
            "Variable: date_1996-04-24      Importance: 0.0\n",
            "Variable: date_1996-08-28      Importance: 0.0\n",
            "Variable: date_1996-09-25      Importance: 0.0\n",
            "Variable: date_1996-10-23      Importance: 0.0\n",
            "Variable: date_1996-12-18      Importance: 0.0\n",
            "Variable: date_1997-04-09      Importance: 0.0\n",
            "Variable: date_1997-06-18      Importance: 0.0\n",
            "Variable: date_1997-08-20      Importance: 0.0\n",
            "Variable: date_1997-10-17      Importance: 0.0\n",
            "Variable: date_1997-11-19      Importance: 0.0\n",
            "Variable: date_1997-12-23      Importance: 0.0\n",
            "Variable: date_1998-02-18      Importance: 0.0\n",
            "Variable: date_1998-03-18      Importance: 0.0\n",
            "Variable: date_1998-04-22      Importance: 0.0\n",
            "Variable: date_1998-05-20      Importance: 0.0\n",
            "Variable: date_1998-07-15      Importance: 0.0\n",
            "Variable: date_1998-08-19      Importance: 0.0\n",
            "Variable: date_1998-09-16      Importance: 0.0\n",
            "Variable: date_1998-10-21      Importance: 0.0\n",
            "Variable: date_1998-11-18      Importance: 0.0\n",
            "Variable: date_1998-12-23      Importance: 0.0\n",
            "Variable: date_1999-01-27      Importance: 0.0\n",
            "Variable: date_1999-03-24      Importance: 0.0\n",
            "Variable: date_1999-05-19      Importance: 0.0\n",
            "Variable: date_1999-06-16      Importance: 0.0\n",
            "Variable: date_1999-07-21      Importance: 0.0\n",
            "Variable: date_1999-08-18      Importance: 0.0\n",
            "Variable: date_1999-10-13      Importance: 0.0\n",
            "Variable: date_1999-11-17      Importance: 0.0\n",
            "Variable: date_1999-12-22      Importance: 0.0\n",
            "Variable: date_2000-01-19      Importance: 0.0\n",
            "Variable: date_2000-02-16      Importance: 0.0\n",
            "Variable: date_2000-03-15      Importance: 0.0\n",
            "Variable: date_2000-04-12      Importance: 0.0\n",
            "Variable: date_2000-05-10      Importance: 0.0\n",
            "Variable: date_2000-06-07      Importance: 0.0\n",
            "Variable: date_2000-07-05      Importance: 0.0\n",
            "Variable: date_2000-08-09      Importance: 0.0\n",
            "Variable: date_2000-10-11      Importance: 0.0\n",
            "Variable: date_2000-11-15      Importance: 0.0\n",
            "Variable: date_2000-12-20      Importance: 0.0\n",
            "Variable: date_2001-01-17      Importance: 0.0\n",
            "Variable: date_2001-02-14      Importance: 0.0\n",
            "Variable: date_2001-03-14      Importance: 0.0\n",
            "Variable: date_2001-05-16      Importance: 0.0\n",
            "Variable: date_2001-06-20      Importance: 0.0\n",
            "Variable: date_2001-07-18      Importance: 0.0\n",
            "Variable: date_2001-11-21      Importance: 0.0\n",
            "Variable: date_2002-01-16      Importance: 0.0\n",
            "Variable: date_2002-02-13      Importance: 0.0\n",
            "Variable: date_2002-03-20      Importance: 0.0\n",
            "Variable: date_2002-04-17      Importance: 0.0\n",
            "Variable: date_2002-05-15      Importance: 0.0\n",
            "Variable: date_2002-07-03      Importance: 0.0\n",
            "Variable: date_2002-10-23      Importance: 0.0\n",
            "Variable: date_2002-11-20      Importance: 0.0\n",
            "Variable: date_2002-12-18      Importance: 0.0\n",
            "Variable: date_2003-01-15      Importance: 0.0\n",
            "Variable: date_2003-03-26      Importance: 0.0\n",
            "Variable: date_2003-04-23      Importance: 0.0\n",
            "Variable: date_2003-05-21      Importance: 0.0\n",
            "Variable: date_2003-07-30      Importance: 0.0\n",
            "Variable: date_2003-08-27      Importance: 0.0\n",
            "Variable: date_2003-09-24      Importance: 0.0\n",
            "Variable: date_2003-10-22      Importance: 0.0\n",
            "Variable: date_2003-11-19      Importance: 0.0\n",
            "Variable: date_2003-12-15      Importance: 0.0\n",
            "Variable: date_2004-01-14      Importance: 0.0\n",
            "Variable: date_2004-02-18      Importance: 0.0\n",
            "Variable: date_2004-03-17      Importance: 0.0\n",
            "Variable: date_2004-04-14      Importance: 0.0\n",
            "Variable: date_2004-05-12      Importance: 0.0\n",
            "Variable: date_2004-07-07      Importance: 0.0\n",
            "Variable: date_2004-09-01      Importance: 0.0\n",
            "Variable: date_2004-10-06      Importance: 0.0\n",
            "Variable: date_2004-11-10      Importance: 0.0\n",
            "Variable: date_2004-12-20      Importance: 0.0\n",
            "Variable: date_2005-02-16      Importance: 0.0\n",
            "Variable: date_2005-03-23      Importance: 0.0\n",
            "Variable: date_2005-04-20      Importance: 0.0\n",
            "Variable: date_2005-06-15      Importance: 0.0\n",
            "Variable: date_2005-08-17      Importance: 0.0\n",
            "Variable: date_2005-12-16      Importance: 0.0\n",
            "Variable: date_2006-01-18      Importance: 0.0\n",
            "Variable: date_2006-02-15      Importance: 0.0\n",
            "Variable: date_2006-03-15      Importance: 0.0\n",
            "Variable: date_2006-08-16      Importance: 0.0\n",
            "Variable: date_2006-10-18      Importance: 0.0\n",
            "Variable: date_2007-01-17      Importance: 0.0\n",
            "Variable: date_2007-04-18      Importance: 0.0\n",
            "Variable: date_2007-05-16      Importance: 0.0\n",
            "Variable: date_2007-07-18      Importance: 0.0\n",
            "Variable: date_2007-08-22      Importance: 0.0\n",
            "Variable: date_2007-10-24      Importance: 0.0\n",
            "Variable: date_2007-12-17      Importance: 0.0\n",
            "Variable: date_2008-01-16      Importance: 0.0\n",
            "Variable: date_2008-04-09      Importance: 0.0\n",
            "Variable: date_2008-06-04      Importance: 0.0\n",
            "Variable: date_2008-09-03      Importance: 0.0\n",
            "Variable: date_2008-11-12      Importance: 0.0\n",
            "Variable: date_2008-12-17      Importance: 0.0\n",
            "Variable: date_2009-01-14      Importance: 0.0\n",
            "Variable: date_2009-02-11      Importance: 0.0\n",
            "Variable: date_2009-03-11      Importance: 0.0\n",
            "Variable: date_2009-04-08      Importance: 0.0\n",
            "Variable: date_2009-06-03      Importance: 0.0\n",
            "Variable: date_2009-12-16      Importance: 0.0\n",
            "Variable: date_2010-03-03      Importance: 0.0\n",
            "Variable: date_2010-03-31      Importance: 0.0\n",
            "Variable: date_2010-04-28      Importance: 0.0\n",
            "Variable: date_2010-05-26      Importance: 0.0\n",
            "Variable: date_2010-08-11      Importance: 0.0\n",
            "Variable: date_2010-09-15      Importance: 0.0\n",
            "Variable: date_2010-11-17      Importance: 0.0\n",
            "Variable: date_2010-12-15      Importance: 0.0\n",
            "Variable: date_2011-01-12      Importance: 0.0\n",
            "Variable: date_2011-06-29      Importance: 0.0\n",
            "Variable: date_2011-07-27      Importance: 0.0\n",
            "Variable: date_2011-08-24      Importance: 0.0\n",
            "Variable: date_2011-12-21      Importance: 0.0\n",
            "Variable: date_2012-01-18      Importance: 0.0\n",
            "Variable: date_2012-02-15      Importance: 0.0\n",
            "Variable: date_2012-04-11      Importance: 0.0\n",
            "Variable: date_2012-06-06      Importance: 0.0\n",
            "Variable: date_2012-08-08      Importance: 0.0\n",
            "Variable: date_2012-09-05      Importance: 0.0\n",
            "Variable: date_2012-11-07      Importance: 0.0\n",
            "Variable: date_2012-12-19      Importance: 0.0\n",
            "Variable: date_2013-01-17      Importance: 0.0\n",
            "Variable: date_2013-02-14      Importance: 0.0\n",
            "Variable: date_2013-06-06      Importance: 0.0\n",
            "Variable: date_2013-11-28      Importance: 0.0\n",
            "Variable: date_2014-01-16      Importance: 0.0\n",
            "Variable: date_2014-06-05      Importance: 0.0\n",
            "Variable: date_2014-08-14      Importance: 0.0\n",
            "Variable: date_2015-03-12      Importance: 0.0\n",
            "Variable: date_2015-09-03      Importance: 0.0\n",
            "Variable: date_2015-11-05      Importance: 0.0\n",
            "Variable: date_2015-12-03      Importance: 0.0\n",
            "Variable: date_2016-02-04      Importance: 0.0\n",
            "Variable: date_2016-06-02      Importance: 0.0\n",
            "Variable: date_2017-03-09      Importance: 0.0\n",
            "Variable: date_2017-05-04      Importance: 0.0\n",
            "Variable: date_2017-06-01      Importance: 0.0\n",
            "Variable: date_2017-07-06      Importance: 0.0\n",
            "Variable: date_2018-01-18      Importance: 0.0\n",
            "Variable: date_2018-06-07      Importance: 0.0\n",
            "Variable: home_team_Abkhazia   Importance: 0.0\n",
            "Variable: home_team_Afghanistan Importance: 0.0\n",
            "Variable: home_team_Albania    Importance: 0.0\n",
            "Variable: home_team_Algeria    Importance: 0.0\n",
            "Variable: home_team_American Samoa Importance: 0.0\n",
            "Variable: home_team_Andorra    Importance: 0.0\n",
            "Variable: home_team_Angola     Importance: 0.0\n",
            "Variable: home_team_Antigua and Barbuda Importance: 0.0\n",
            "Variable: home_team_Argentina  Importance: 0.0\n",
            "Variable: home_team_Armenia    Importance: 0.0\n",
            "Variable: home_team_Austria    Importance: 0.0\n",
            "Variable: home_team_Azerbaijan Importance: 0.0\n",
            "Variable: home_team_Bahrain    Importance: 0.0\n",
            "Variable: home_team_Bangladesh Importance: 0.0\n",
            "Variable: home_team_Barawa     Importance: 0.0\n",
            "Variable: home_team_Barbados   Importance: 0.0\n",
            "Variable: home_team_Belarus    Importance: 0.0\n",
            "Variable: home_team_Belgium    Importance: 0.0\n",
            "Variable: home_team_Belize     Importance: 0.0\n",
            "Variable: home_team_Benin      Importance: 0.0\n",
            "Variable: home_team_Bermuda    Importance: 0.0\n",
            "Variable: home_team_Bhutan     Importance: 0.0\n",
            "Variable: home_team_Bolivia    Importance: 0.0\n",
            "Variable: home_team_Bosnia and Herzegovina Importance: 0.0\n",
            "Variable: home_team_Botswana   Importance: 0.0\n",
            "Variable: home_team_Brazil     Importance: 0.0\n",
            "Variable: home_team_Bulgaria   Importance: 0.0\n",
            "Variable: home_team_Burkina Faso Importance: 0.0\n",
            "Variable: home_team_Burma      Importance: 0.0\n",
            "Variable: home_team_Burundi    Importance: 0.0\n",
            "Variable: home_team_Cambodia   Importance: 0.0\n",
            "Variable: home_team_Cameroon   Importance: 0.0\n",
            "Variable: home_team_Canada     Importance: 0.0\n",
            "Variable: home_team_Cascadia   Importance: 0.0\n",
            "Variable: home_team_Catalonia  Importance: 0.0\n",
            "Variable: home_team_Chad       Importance: 0.0\n",
            "Variable: home_team_Chagos Islands Importance: 0.0\n",
            "Variable: home_team_Chile      Importance: 0.0\n",
            "Variable: home_team_China PR   Importance: 0.0\n",
            "Variable: home_team_Colombia   Importance: 0.0\n",
            "Variable: home_team_Costa Rica Importance: 0.0\n",
            "Variable: home_team_Croatia    Importance: 0.0\n",
            "Variable: home_team_Cuba       Importance: 0.0\n",
            "Variable: home_team_Cyprus     Importance: 0.0\n",
            "Variable: home_team_Czech Republic Importance: 0.0\n",
            "Variable: home_team_DR Congo   Importance: 0.0\n",
            "Variable: home_team_Darfur     Importance: 0.0\n",
            "Variable: home_team_Denmark    Importance: 0.0\n",
            "Variable: home_team_Dominica   Importance: 0.0\n",
            "Variable: home_team_Ecuador    Importance: 0.0\n",
            "Variable: home_team_Egypt      Importance: 0.0\n",
            "Variable: home_team_El Salvador Importance: 0.0\n",
            "Variable: home_team_England    Importance: 0.0\n",
            "Variable: home_team_Estonia    Importance: 0.0\n",
            "Variable: home_team_Eswatini   Importance: 0.0\n",
            "Variable: home_team_Ethiopia   Importance: 0.0\n",
            "Variable: home_team_Faroe Islands Importance: 0.0\n",
            "Variable: home_team_Fiji       Importance: 0.0\n",
            "Variable: home_team_Finland    Importance: 0.0\n",
            "Variable: home_team_France     Importance: 0.0\n",
            "Variable: home_team_Gabon      Importance: 0.0\n",
            "Variable: home_team_Gambia     Importance: 0.0\n",
            "Variable: home_team_Georgia    Importance: 0.0\n",
            "Variable: home_team_Germany    Importance: 0.0\n",
            "Variable: home_team_Ghana      Importance: 0.0\n",
            "Variable: home_team_Greece     Importance: 0.0\n",
            "Variable: home_team_Grenada    Importance: 0.0\n",
            "Variable: home_team_Guadeloupe Importance: 0.0\n",
            "Variable: home_team_Guam       Importance: 0.0\n",
            "Variable: home_team_Guatemala  Importance: 0.0\n",
            "Variable: home_team_Guinea     Importance: 0.0\n",
            "Variable: home_team_Guyana     Importance: 0.0\n",
            "Variable: home_team_Haiti      Importance: 0.0\n",
            "Variable: home_team_Honduras   Importance: 0.0\n",
            "Variable: home_team_Hong Kong  Importance: 0.0\n",
            "Variable: home_team_Hungary    Importance: 0.0\n",
            "Variable: home_team_Iceland    Importance: 0.0\n",
            "Variable: home_team_India      Importance: 0.0\n",
            "Variable: home_team_Indonesia  Importance: 0.0\n",
            "Variable: home_team_Iran       Importance: 0.0\n",
            "Variable: home_team_Iraq       Importance: 0.0\n",
            "Variable: home_team_Iraqi Kurdistan Importance: 0.0\n",
            "Variable: home_team_Israel     Importance: 0.0\n",
            "Variable: home_team_Italy      Importance: 0.0\n",
            "Variable: home_team_Ivory Coast Importance: 0.0\n",
            "Variable: home_team_Jamaica    Importance: 0.0\n",
            "Variable: home_team_Japan      Importance: 0.0\n",
            "Variable: home_team_Jordan     Importance: 0.0\n",
            "Variable: home_team_Kazakhstan Importance: 0.0\n",
            "Variable: home_team_Kenya      Importance: 0.0\n",
            "Variable: home_team_Kuwait     Importance: 0.0\n",
            "Variable: home_team_Kárpátalja Importance: 0.0\n",
            "Variable: home_team_Laos       Importance: 0.0\n",
            "Variable: home_team_Latvia     Importance: 0.0\n",
            "Variable: home_team_Lebanon    Importance: 0.0\n",
            "Variable: home_team_Lesotho    Importance: 0.0\n",
            "Variable: home_team_Liberia    Importance: 0.0\n",
            "Variable: home_team_Libya      Importance: 0.0\n",
            "Variable: home_team_Liechtenstein Importance: 0.0\n",
            "Variable: home_team_Lithuania  Importance: 0.0\n",
            "Variable: home_team_Luxembourg Importance: 0.0\n",
            "Variable: home_team_Macau      Importance: 0.0\n",
            "Variable: home_team_Malawi     Importance: 0.0\n",
            "Variable: home_team_Malaysia   Importance: 0.0\n",
            "Variable: home_team_Maldives   Importance: 0.0\n",
            "Variable: home_team_Mali       Importance: 0.0\n",
            "Variable: home_team_Malta      Importance: 0.0\n",
            "Variable: home_team_Mauritania Importance: 0.0\n",
            "Variable: home_team_Mauritius  Importance: 0.0\n",
            "Variable: home_team_Mexico     Importance: 0.0\n",
            "Variable: home_team_Moldova    Importance: 0.0\n",
            "Variable: home_team_Mongolia   Importance: 0.0\n",
            "Variable: home_team_Montenegro Importance: 0.0\n",
            "Variable: home_team_Morocco    Importance: 0.0\n",
            "Variable: home_team_Mozambique Importance: 0.0\n",
            "Variable: home_team_Namibia    Importance: 0.0\n",
            "Variable: home_team_Nepal      Importance: 0.0\n",
            "Variable: home_team_Netherlands Importance: 0.0\n",
            "Variable: home_team_New Zealand Importance: 0.0\n",
            "Variable: home_team_Nigeria    Importance: 0.0\n",
            "Variable: home_team_North Macedonia Importance: 0.0\n",
            "Variable: home_team_Northern Cyprus Importance: 0.0\n",
            "Variable: home_team_Northern Ireland Importance: 0.0\n",
            "Variable: home_team_Norway     Importance: 0.0\n",
            "Variable: home_team_Occitania  Importance: 0.0\n",
            "Variable: home_team_Oman       Importance: 0.0\n",
            "Variable: home_team_Padania    Importance: 0.0\n",
            "Variable: home_team_Pakistan   Importance: 0.0\n",
            "Variable: home_team_Panama     Importance: 0.0\n",
            "Variable: home_team_Papua New Guinea Importance: 0.0\n",
            "Variable: home_team_Paraguay   Importance: 0.0\n",
            "Variable: home_team_Peru       Importance: 0.0\n",
            "Variable: home_team_Philippines Importance: 0.0\n",
            "Variable: home_team_Poland     Importance: 0.0\n",
            "Variable: home_team_Portugal   Importance: 0.0\n",
            "Variable: home_team_Provence   Importance: 0.0\n",
            "Variable: home_team_Qatar      Importance: 0.0\n",
            "Variable: home_team_Republic of Ireland Importance: 0.0\n",
            "Variable: home_team_Romania    Importance: 0.0\n",
            "Variable: home_team_Russia     Importance: 0.0\n",
            "Variable: home_team_Rwanda     Importance: 0.0\n",
            "Variable: home_team_Samoa      Importance: 0.0\n",
            "Variable: home_team_San Marino Importance: 0.0\n",
            "Variable: home_team_Saudi Arabia Importance: 0.0\n",
            "Variable: home_team_Scotland   Importance: 0.0\n",
            "Variable: home_team_Senegal    Importance: 0.0\n",
            "Variable: home_team_Serbia     Importance: 0.0\n",
            "Variable: home_team_Seychelles Importance: 0.0\n",
            "Variable: home_team_Sierra Leone Importance: 0.0\n",
            "Variable: home_team_Singapore  Importance: 0.0\n",
            "Variable: home_team_Slovakia   Importance: 0.0\n",
            "Variable: home_team_Slovenia   Importance: 0.0\n",
            "Variable: home_team_Solomon Islands Importance: 0.0\n",
            "Variable: home_team_South Africa Importance: 0.0\n",
            "Variable: home_team_South Korea Importance: 0.0\n",
            "Variable: home_team_Spain      Importance: 0.0\n",
            "Variable: home_team_Sri Lanka  Importance: 0.0\n",
            "Variable: home_team_Sudan      Importance: 0.0\n",
            "Variable: home_team_Sweden     Importance: 0.0\n",
            "Variable: home_team_Switzerland Importance: 0.0\n",
            "Variable: home_team_Syria      Importance: 0.0\n",
            "Variable: home_team_Székely Land Importance: 0.0\n",
            "Variable: home_team_Sápmi      Importance: 0.0\n",
            "Variable: home_team_Tahiti     Importance: 0.0\n",
            "Variable: home_team_Tajikistan Importance: 0.0\n",
            "Variable: home_team_Tamil Eelam Importance: 0.0\n",
            "Variable: home_team_Tanzania   Importance: 0.0\n",
            "Variable: home_team_Thailand   Importance: 0.0\n",
            "Variable: home_team_Tibet      Importance: 0.0\n",
            "Variable: home_team_Togo       Importance: 0.0\n",
            "Variable: home_team_Trinidad and Tobago Importance: 0.0\n",
            "Variable: home_team_Tunisia    Importance: 0.0\n",
            "Variable: home_team_Turkey     Importance: 0.0\n",
            "Variable: home_team_Turkmenistan Importance: 0.0\n",
            "Variable: home_team_Uganda     Importance: 0.0\n",
            "Variable: home_team_Ukraine    Importance: 0.0\n",
            "Variable: home_team_United Arab Emirates Importance: 0.0\n",
            "Variable: home_team_Uruguay    Importance: 0.0\n",
            "Variable: home_team_Uzbekistan Importance: 0.0\n",
            "Variable: home_team_Vanuatu    Importance: 0.0\n",
            "Variable: home_team_Venezuela  Importance: 0.0\n",
            "Variable: home_team_Wales      Importance: 0.0\n",
            "Variable: home_team_Western Armenia Importance: 0.0\n",
            "Variable: home_team_Yemen      Importance: 0.0\n",
            "Variable: home_team_Zambia     Importance: 0.0\n",
            "Variable: home_team_Zimbabwe   Importance: 0.0\n",
            "Variable: away_team_Abkhazia   Importance: 0.0\n",
            "Variable: away_team_Afghanistan Importance: 0.0\n",
            "Variable: away_team_Albania    Importance: 0.0\n",
            "Variable: away_team_Algeria    Importance: 0.0\n",
            "Variable: away_team_Andorra    Importance: 0.0\n",
            "Variable: away_team_Angola     Importance: 0.0\n",
            "Variable: away_team_Antigua and Barbuda Importance: 0.0\n",
            "Variable: away_team_Argentina  Importance: 0.0\n",
            "Variable: away_team_Armenia    Importance: 0.0\n",
            "Variable: away_team_Artsakh    Importance: 0.0\n",
            "Variable: away_team_Australia  Importance: 0.0\n",
            "Variable: away_team_Austria    Importance: 0.0\n",
            "Variable: away_team_Azerbaijan Importance: 0.0\n",
            "Variable: away_team_Bahrain    Importance: 0.0\n",
            "Variable: away_team_Bangladesh Importance: 0.0\n",
            "Variable: away_team_Barbados   Importance: 0.0\n",
            "Variable: away_team_Belarus    Importance: 0.0\n",
            "Variable: away_team_Belgium    Importance: 0.0\n",
            "Variable: away_team_Benin      Importance: 0.0\n",
            "Variable: away_team_Bolivia    Importance: 0.0\n",
            "Variable: away_team_Bosnia and Herzegovina Importance: 0.0\n",
            "Variable: away_team_Botswana   Importance: 0.0\n",
            "Variable: away_team_Brazil     Importance: 0.0\n",
            "Variable: away_team_Bulgaria   Importance: 0.0\n",
            "Variable: away_team_Burkina Faso Importance: 0.0\n",
            "Variable: away_team_Burma      Importance: 0.0\n",
            "Variable: away_team_Cambodia   Importance: 0.0\n",
            "Variable: away_team_Cameroon   Importance: 0.0\n",
            "Variable: away_team_Canada     Importance: 0.0\n",
            "Variable: away_team_Cape Verde Importance: 0.0\n",
            "Variable: away_team_Chad       Importance: 0.0\n",
            "Variable: away_team_Chile      Importance: 0.0\n",
            "Variable: away_team_China PR   Importance: 0.0\n",
            "Variable: away_team_Chinese Taipei Importance: 0.0\n",
            "Variable: away_team_Colombia   Importance: 0.0\n",
            "Variable: away_team_Congo      Importance: 0.0\n",
            "Variable: away_team_Cook Islands Importance: 0.0\n",
            "Variable: away_team_Costa Rica Importance: 0.0\n",
            "Variable: away_team_Croatia    Importance: 0.0\n",
            "Variable: away_team_Cuba       Importance: 0.0\n",
            "Variable: away_team_Curaçao    Importance: 0.0\n",
            "Variable: away_team_Cyprus     Importance: 0.0\n",
            "Variable: away_team_Czech Republic Importance: 0.0\n",
            "Variable: away_team_DR Congo   Importance: 0.0\n",
            "Variable: away_team_Denmark    Importance: 0.0\n",
            "Variable: away_team_East Timor Importance: 0.0\n",
            "Variable: away_team_Ecuador    Importance: 0.0\n",
            "Variable: away_team_Egypt      Importance: 0.0\n",
            "Variable: away_team_El Salvador Importance: 0.0\n",
            "Variable: away_team_England    Importance: 0.0\n",
            "Variable: away_team_Equatorial Guinea Importance: 0.0\n",
            "Variable: away_team_Eritrea    Importance: 0.0\n",
            "Variable: away_team_Estonia    Importance: 0.0\n",
            "Variable: away_team_Eswatini   Importance: 0.0\n",
            "Variable: away_team_Faroe Islands Importance: 0.0\n",
            "Variable: away_team_Fiji       Importance: 0.0\n",
            "Variable: away_team_Finland    Importance: 0.0\n",
            "Variable: away_team_France     Importance: 0.0\n",
            "Variable: away_team_French Guiana Importance: 0.0\n",
            "Variable: away_team_Gabon      Importance: 0.0\n",
            "Variable: away_team_Georgia    Importance: 0.0\n",
            "Variable: away_team_Germany    Importance: 0.0\n",
            "Variable: away_team_Ghana      Importance: 0.0\n",
            "Variable: away_team_Greece     Importance: 0.0\n",
            "Variable: away_team_Guam       Importance: 0.0\n",
            "Variable: away_team_Guatemala  Importance: 0.0\n",
            "Variable: away_team_Guinea     Importance: 0.0\n",
            "Variable: away_team_Guyana     Importance: 0.0\n",
            "Variable: away_team_Haiti      Importance: 0.0\n",
            "Variable: away_team_Honduras   Importance: 0.0\n",
            "Variable: away_team_Hong Kong  Importance: 0.0\n",
            "Variable: away_team_Hungary    Importance: 0.0\n",
            "Variable: away_team_Iceland    Importance: 0.0\n",
            "Variable: away_team_India      Importance: 0.0\n",
            "Variable: away_team_Indonesia  Importance: 0.0\n",
            "Variable: away_team_Iran       Importance: 0.0\n",
            "Variable: away_team_Iraq       Importance: 0.0\n",
            "Variable: away_team_Iraqi Kurdistan Importance: 0.0\n",
            "Variable: away_team_Israel     Importance: 0.0\n",
            "Variable: away_team_Italy      Importance: 0.0\n",
            "Variable: away_team_Ivory Coast Importance: 0.0\n",
            "Variable: away_team_Jamaica    Importance: 0.0\n",
            "Variable: away_team_Jordan     Importance: 0.0\n",
            "Variable: away_team_Kabylia    Importance: 0.0\n",
            "Variable: away_team_Kazakhstan Importance: 0.0\n",
            "Variable: away_team_Kenya      Importance: 0.0\n",
            "Variable: away_team_Kuwait     Importance: 0.0\n",
            "Variable: away_team_Kyrgyzstan Importance: 0.0\n",
            "Variable: away_team_Laos       Importance: 0.0\n",
            "Variable: away_team_Latvia     Importance: 0.0\n",
            "Variable: away_team_Lebanon    Importance: 0.0\n",
            "Variable: away_team_Libya      Importance: 0.0\n",
            "Variable: away_team_Liechtenstein Importance: 0.0\n",
            "Variable: away_team_Lithuania  Importance: 0.0\n",
            "Variable: away_team_Luxembourg Importance: 0.0\n",
            "Variable: away_team_Macau      Importance: 0.0\n",
            "Variable: away_team_Malawi     Importance: 0.0\n",
            "Variable: away_team_Malaysia   Importance: 0.0\n",
            "Variable: away_team_Maldives   Importance: 0.0\n",
            "Variable: away_team_Mali       Importance: 0.0\n",
            "Variable: away_team_Malta      Importance: 0.0\n",
            "Variable: away_team_Martinique Importance: 0.0\n",
            "Variable: away_team_Mexico     Importance: 0.0\n",
            "Variable: away_team_Moldova    Importance: 0.0\n",
            "Variable: away_team_Mongolia   Importance: 0.0\n",
            "Variable: away_team_Morocco    Importance: 0.0\n",
            "Variable: away_team_Mozambique Importance: 0.0\n",
            "Variable: away_team_Namibia    Importance: 0.0\n",
            "Variable: away_team_Nepal      Importance: 0.0\n",
            "Variable: away_team_Netherlands Importance: 0.0\n",
            "Variable: away_team_New Caledonia Importance: 0.0\n",
            "Variable: away_team_New Zealand Importance: 0.0\n",
            "Variable: away_team_Nicaragua  Importance: 0.0\n",
            "Variable: away_team_Niger      Importance: 0.0\n",
            "Variable: away_team_Nigeria    Importance: 0.0\n",
            "Variable: away_team_North Korea Importance: 0.0\n",
            "Variable: away_team_North Macedonia Importance: 0.0\n",
            "Variable: away_team_Northern Cyprus Importance: 0.0\n",
            "Variable: away_team_Northern Ireland Importance: 0.0\n",
            "Variable: away_team_Northern Mariana Islands Importance: 0.0\n",
            "Variable: away_team_Norway     Importance: 0.0\n",
            "Variable: away_team_Occitania  Importance: 0.0\n",
            "Variable: away_team_Oman       Importance: 0.0\n",
            "Variable: away_team_Padania    Importance: 0.0\n",
            "Variable: away_team_Pakistan   Importance: 0.0\n",
            "Variable: away_team_Palestine  Importance: 0.0\n",
            "Variable: away_team_Panama     Importance: 0.0\n",
            "Variable: away_team_Panjab     Importance: 0.0\n",
            "Variable: away_team_Papua New Guinea Importance: 0.0\n",
            "Variable: away_team_Paraguay   Importance: 0.0\n",
            "Variable: away_team_Peru       Importance: 0.0\n",
            "Variable: away_team_Philippines Importance: 0.0\n",
            "Variable: away_team_Poland     Importance: 0.0\n",
            "Variable: away_team_Portugal   Importance: 0.0\n",
            "Variable: away_team_Puerto Rico Importance: 0.0\n",
            "Variable: away_team_Qatar      Importance: 0.0\n",
            "Variable: away_team_Raetia     Importance: 0.0\n",
            "Variable: away_team_Republic of Ireland Importance: 0.0\n",
            "Variable: away_team_Romania    Importance: 0.0\n",
            "Variable: away_team_Russia     Importance: 0.0\n",
            "Variable: away_team_Rwanda     Importance: 0.0\n",
            "Variable: away_team_Réunion    Importance: 0.0\n",
            "Variable: away_team_Saint Kitts and Nevis Importance: 0.0\n",
            "Variable: away_team_Saint Lucia Importance: 0.0\n",
            "Variable: away_team_Saint Vincent and the Grenadines Importance: 0.0\n",
            "Variable: away_team_San Marino Importance: 0.0\n",
            "Variable: away_team_Saudi Arabia Importance: 0.0\n",
            "Variable: away_team_Scotland   Importance: 0.0\n",
            "Variable: away_team_Senegal    Importance: 0.0\n",
            "Variable: away_team_Serbia     Importance: 0.0\n",
            "Variable: away_team_Sierra Leone Importance: 0.0\n",
            "Variable: away_team_Singapore  Importance: 0.0\n",
            "Variable: away_team_Slovakia   Importance: 0.0\n",
            "Variable: away_team_Slovenia   Importance: 0.0\n",
            "Variable: away_team_Solomon Islands Importance: 0.0\n",
            "Variable: away_team_Somalia    Importance: 0.0\n",
            "Variable: away_team_Somaliland Importance: 0.0\n",
            "Variable: away_team_South Africa Importance: 0.0\n",
            "Variable: away_team_South Korea Importance: 0.0\n",
            "Variable: away_team_Spain      Importance: 0.0\n",
            "Variable: away_team_Sri Lanka  Importance: 0.0\n",
            "Variable: away_team_Sudan      Importance: 0.0\n",
            "Variable: away_team_Suriname   Importance: 0.0\n",
            "Variable: away_team_Sweden     Importance: 0.0\n",
            "Variable: away_team_Switzerland Importance: 0.0\n",
            "Variable: away_team_Syria      Importance: 0.0\n",
            "Variable: away_team_Székely Land Importance: 0.0\n",
            "Variable: away_team_Tajikistan Importance: 0.0\n",
            "Variable: away_team_Tamil Eelam Importance: 0.0\n",
            "Variable: away_team_Thailand   Importance: 0.0\n",
            "Variable: away_team_Togo       Importance: 0.0\n",
            "Variable: away_team_Trinidad and Tobago Importance: 0.0\n",
            "Variable: away_team_Tunisia    Importance: 0.0\n",
            "Variable: away_team_Turkey     Importance: 0.0\n",
            "Variable: away_team_Turkmenistan Importance: 0.0\n",
            "Variable: away_team_Tuvalu     Importance: 0.0\n",
            "Variable: away_team_Uganda     Importance: 0.0\n",
            "Variable: away_team_Ukraine    Importance: 0.0\n",
            "Variable: away_team_United Arab Emirates Importance: 0.0\n",
            "Variable: away_team_United Koreans in Japan Importance: 0.0\n",
            "Variable: away_team_United States Importance: 0.0\n",
            "Variable: away_team_Uruguay    Importance: 0.0\n",
            "Variable: away_team_Uzbekistan Importance: 0.0\n",
            "Variable: away_team_Vanuatu    Importance: 0.0\n",
            "Variable: away_team_Venezuela  Importance: 0.0\n",
            "Variable: away_team_Vietnam    Importance: 0.0\n",
            "Variable: away_team_Wales      Importance: 0.0\n",
            "Variable: away_team_Western Armenia Importance: 0.0\n",
            "Variable: away_team_Yemen      Importance: 0.0\n",
            "Variable: away_team_Zambia     Importance: 0.0\n",
            "Variable: away_team_Zanzibar   Importance: 0.0\n",
            "Variable: away_team_Zimbabwe   Importance: 0.0\n",
            "Variable: tournament_AFC Asian Cup Importance: 0.0\n",
            "Variable: tournament_AFC Asian Cup qualification Importance: 0.0\n",
            "Variable: tournament_AFC Challenge Cup qualification Importance: 0.0\n",
            "Variable: tournament_AFF Championship Importance: 0.0\n",
            "Variable: tournament_African Cup of Nations Importance: 0.0\n",
            "Variable: tournament_African Cup of Nations qualification Importance: 0.0\n",
            "Variable: tournament_African Nations Championship Importance: 0.0\n",
            "Variable: tournament_CECAFA Cup Importance: 0.0\n",
            "Variable: tournament_CFU Caribbean Cup Importance: 0.0\n",
            "Variable: tournament_CFU Caribbean Cup qualification Importance: 0.0\n",
            "Variable: tournament_CONIFA World Football Cup Importance: 0.0\n",
            "Variable: tournament_COSAFA Cup Importance: 0.0\n",
            "Variable: tournament_Confederations Cup Importance: 0.0\n",
            "Variable: tournament_Copa América Importance: 0.0\n",
            "Variable: tournament_Copa del Pacífico Importance: 0.0\n",
            "Variable: tournament_Cyprus International Tournament Importance: 0.0\n",
            "Variable: tournament_EAFF Championship Importance: 0.0\n",
            "Variable: tournament_Friendly  Importance: 0.0\n",
            "Variable: tournament_Gold Cup qualification Importance: 0.0\n",
            "Variable: tournament_Gulf Cup  Importance: 0.0\n",
            "Variable: tournament_Intercontinental Cup Importance: 0.0\n",
            "Variable: tournament_King's Cup Importance: 0.0\n",
            "Variable: tournament_Malta International Tournament Importance: 0.0\n",
            "Variable: tournament_Merdeka Tournament Importance: 0.0\n",
            "Variable: tournament_Millennium Cup Importance: 0.0\n",
            "Variable: tournament_Nehru Cup Importance: 0.0\n",
            "Variable: tournament_Oceania Nations Cup Importance: 0.0\n",
            "Variable: tournament_Prime Minister's Cup Importance: 0.0\n",
            "Variable: tournament_SAFF Cup  Importance: 0.0\n",
            "Variable: tournament_UAFA Cup  Importance: 0.0\n",
            "Variable: tournament_UEFA Euro qualification Importance: 0.0\n",
            "Variable: tournament_UNCAF Cup Importance: 0.0\n",
            "Variable: tournament_United Arab Emirates Friendship Tournament Importance: 0.0\n",
            "Variable: tournament_Viva World Cup Importance: 0.0\n",
            "Variable: tournament_Windward Islands Tournament Importance: 0.0\n"
          ],
          "name": "stdout"
        }
      ]
    },
    {
      "cell_type": "code",
      "metadata": {
        "id": "7vGGLEgPV4yr",
        "colab_type": "code",
        "colab": {
          "base_uri": "https://localhost:8080/",
          "height": 87
        },
        "outputId": "e2edb880-6200-4e0e-8aa6-35b6402aeda5"
      },
      "source": [
        "# New random forest with only the two most important variables\n",
        "rf_most_important = RandomForestRegressor(n_estimators= 1000, random_state=42)\n",
        "\n",
        "# Extract the two most important features\n",
        "important_indices = [feature_list.index('previous_points'), feature_list.index('previous_points')]\n",
        "train_important = train_features[:, important_indices]\n",
        "test_important = test_features[:, important_indices]\n",
        "\n",
        "# Train the random forest\n",
        "rf_most_important.fit(train_important, train_labels)\n",
        "\n",
        "# Make predictions and determine the error\n",
        "predictions = rf_most_important.predict(test_important)\n",
        "\n",
        "errors = abs(predictions - test_labels)\n",
        "\n",
        "# Display the performance metrics\n",
        "print('Mean Absolute Error:', round(np.mean(errors), 2), 'units.')\n",
        "\n",
        "mape = np.mean(100 * (errors / test_labels))\n",
        "accuracy = 100 - mape\n",
        "\n",
        "print('Accuracy:', round(accuracy, 2), '%.')"
      ],
      "execution_count": 263,
      "outputs": [
        {
          "output_type": "stream",
          "text": [
            "Mean Absolute Error: 1.46 units.\n",
            "Accuracy: -inf %.\n"
          ],
          "name": "stdout"
        },
        {
          "output_type": "stream",
          "text": [
            "/usr/local/lib/python3.6/dist-packages/ipykernel_launcher.py:19: RuntimeWarning: divide by zero encountered in true_divide\n"
          ],
          "name": "stderr"
        }
      ]
    },
    {
      "cell_type": "markdown",
      "metadata": {
        "id": "fzKyQ-0RXB2e",
        "colab_type": "text"
      },
      "source": [
        "# VISUALIZATION OF THE MODEL."
      ]
    },
    {
      "cell_type": "code",
      "metadata": {
        "id": "AUHbpRK3XKJ_",
        "colab_type": "code",
        "colab": {}
      },
      "source": [
        "# Import matplotlib for plotting and use magic command for Jupyter Notebooks\n",
        "import matplotlib.pyplot as plt\n",
        "\n",
        "%matplotlib inline\n",
        "\n",
        "# Set the style\n",
        "plt.style.use('fivethirtyeight')\n",
        "\n",
        "# list of x locations for plotting\n",
        "x_values = list(range(len(importances)))\n",
        "\n",
        "# Make a bar chart\n",
        "plt.bar(x_values, importances, orientation = 'vertical')\n",
        "\n",
        "# Tick labels for x axis\n",
        "plt.xticks(x_values, feature_list, rotation='vertical')\n",
        "\n",
        "# Axis labels and title\n",
        "plt.ylabel('Importance'); plt.xlabel('Variable'); plt.title('Variable Importances'); "
      ],
      "execution_count": 0,
      "outputs": []
    },
    {
      "cell_type": "code",
      "metadata": {
        "id": "91Zz0lIHXbBF",
        "colab_type": "code",
        "colab": {}
      },
      "source": [
        ""
      ],
      "execution_count": 0,
      "outputs": []
    }
  ]
}